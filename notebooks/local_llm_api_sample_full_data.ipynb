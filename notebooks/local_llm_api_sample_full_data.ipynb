{
 "cells": [
  {
   "cell_type": "code",
   "execution_count": 1,
   "metadata": {},
   "outputs": [],
   "source": [
    "from config.settings import SRC_DIR\n",
    "import os\n",
    "os.chdir(SRC_DIR)"
   ]
  },
  {
   "cell_type": "code",
   "execution_count": 2,
   "metadata": {},
   "outputs": [],
   "source": [
    "from config.settings import DATA_DIR\n",
    "import os\n",
    "from tqdm.auto import tqdm\n",
    "\n",
    "file_dir = DATA_DIR / 'qc_data' / 'qc_templates'\n",
    "files = os.listdir(file_dir)\n",
    "file_names = [file[:-4] for file in files]\n",
    "file_paths = [file_dir/file for file in files]   "
   ]
  },
  {
   "cell_type": "code",
   "execution_count": null,
   "metadata": {},
   "outputs": [
    {
     "name": "stderr",
     "output_type": "stream",
     "text": [
      "INFO:root:Loading model and tokenizer...\n",
      "INFO:accelerate.utils.modeling:We will use 90% of the memory on device 0 for storing the model, and 10% for the buffer to avoid OOM. You can set `max_memory` in to a higher value to use more memory (at your own risk).\n"
     ]
    },
    {
     "data": {
      "application/vnd.jupyter.widget-view+json": {
       "model_id": "3ab55ba084d6477eb17e66d1ad66e1e5",
       "version_major": 2,
       "version_minor": 0
      },
      "text/plain": [
       "Loading checkpoint shards:   0%|          | 0/8 [00:00<?, ?it/s]"
      ]
     },
     "metadata": {},
     "output_type": "display_data"
    }
   ],
   "source": [
    "from document_processing_system.components.model_inference import ModelInference\n",
    "\n",
    "# Initialize the model\n",
    "model = ModelInference(model_name=\"Qwen/Qwen2.5-14B\")"
   ]
  },
  {
   "cell_type": "code",
   "execution_count": null,
   "metadata": {},
   "outputs": [
    {
     "data": {
      "application/vnd.jupyter.widget-view+json": {
       "model_id": "bc35b9b7248e4a49b90e17b6deeeb8a9",
       "version_major": 2,
       "version_minor": 0
      },
      "text/plain": [
       "  0%|          | 0/7 [00:00<?, ?it/s]"
      ]
     },
     "metadata": {},
     "output_type": "display_data"
    },
    {
     "data": {
      "application/vnd.jupyter.widget-view+json": {
       "model_id": "9eee5530e48f4643831ee252034238a5",
       "version_major": 2,
       "version_minor": 0
      },
      "text/plain": [
       "Extracting pages:   0%|          | 0/8 [00:00<?, ?pages/s]"
      ]
     },
     "metadata": {},
     "output_type": "display_data"
    },
    {
     "data": {
      "application/vnd.jupyter.widget-view+json": {
       "model_id": "56fcd8db15274e698ab591f89b57d5dc",
       "version_major": 2,
       "version_minor": 0
      },
      "text/plain": [
       "Filtering pages:   0%|          | 0/8 [00:00<?, ?pages/s]"
      ]
     },
     "metadata": {},
     "output_type": "display_data"
    },
    {
     "data": {
      "application/vnd.jupyter.widget-view+json": {
       "model_id": "c377713e169c45c8899f9b55af8326bf",
       "version_major": 2,
       "version_minor": 0
      },
      "text/plain": [
       "Extracting pages:   0%|          | 0/4 [00:00<?, ?pages/s]"
      ]
     },
     "metadata": {},
     "output_type": "display_data"
    },
    {
     "data": {
      "application/vnd.jupyter.widget-view+json": {
       "model_id": "55726c6f26794ead9377a7a4777a70b9",
       "version_major": 2,
       "version_minor": 0
      },
      "text/plain": [
       "Filtering pages:   0%|          | 0/4 [00:00<?, ?pages/s]"
      ]
     },
     "metadata": {},
     "output_type": "display_data"
    },
    {
     "data": {
      "application/vnd.jupyter.widget-view+json": {
       "model_id": "10513d627f4e4c6d9430411d4725c216",
       "version_major": 2,
       "version_minor": 0
      },
      "text/plain": [
       "Extracting pages:   0%|          | 0/10 [00:00<?, ?pages/s]"
      ]
     },
     "metadata": {},
     "output_type": "display_data"
    },
    {
     "data": {
      "application/vnd.jupyter.widget-view+json": {
       "model_id": "59407a3423514d68a32d0eb92eda603c",
       "version_major": 2,
       "version_minor": 0
      },
      "text/plain": [
       "Filtering pages:   0%|          | 0/10 [00:00<?, ?pages/s]"
      ]
     },
     "metadata": {},
     "output_type": "display_data"
    },
    {
     "data": {
      "application/vnd.jupyter.widget-view+json": {
       "model_id": "a101ec7c25194afd9e04aa21d701e11a",
       "version_major": 2,
       "version_minor": 0
      },
      "text/plain": [
       "Extracting pages:   0%|          | 0/16 [00:00<?, ?pages/s]"
      ]
     },
     "metadata": {},
     "output_type": "display_data"
    },
    {
     "data": {
      "application/vnd.jupyter.widget-view+json": {
       "model_id": "641227c65970482e9e83818c5822ee53",
       "version_major": 2,
       "version_minor": 0
      },
      "text/plain": [
       "Filtering pages:   0%|          | 0/16 [00:00<?, ?pages/s]"
      ]
     },
     "metadata": {},
     "output_type": "display_data"
    },
    {
     "data": {
      "application/vnd.jupyter.widget-view+json": {
       "model_id": "2b1c75b6b9034db2aa22f679e7cdabd4",
       "version_major": 2,
       "version_minor": 0
      },
      "text/plain": [
       "Extracting pages:   0%|          | 0/5 [00:00<?, ?pages/s]"
      ]
     },
     "metadata": {},
     "output_type": "display_data"
    },
    {
     "data": {
      "application/vnd.jupyter.widget-view+json": {
       "model_id": "ef3070cc9e444f3eacb4b40d73196f70",
       "version_major": 2,
       "version_minor": 0
      },
      "text/plain": [
       "Filtering pages:   0%|          | 0/5 [00:00<?, ?pages/s]"
      ]
     },
     "metadata": {},
     "output_type": "display_data"
    },
    {
     "data": {
      "application/vnd.jupyter.widget-view+json": {
       "model_id": "810025188b994530b389b4754f634658",
       "version_major": 2,
       "version_minor": 0
      },
      "text/plain": [
       "Extracting pages:   0%|          | 0/15 [00:00<?, ?pages/s]"
      ]
     },
     "metadata": {},
     "output_type": "display_data"
    },
    {
     "data": {
      "application/vnd.jupyter.widget-view+json": {
       "model_id": "a8e5e6c701c34209b86d992564d10fd5",
       "version_major": 2,
       "version_minor": 0
      },
      "text/plain": [
       "Filtering pages:   0%|          | 0/15 [00:00<?, ?pages/s]"
      ]
     },
     "metadata": {},
     "output_type": "display_data"
    },
    {
     "data": {
      "application/vnd.jupyter.widget-view+json": {
       "model_id": "4802f3d6c4d343b78a7ddb2f1b9760d2",
       "version_major": 2,
       "version_minor": 0
      },
      "text/plain": [
       "Extracting pages:   0%|          | 0/30 [00:00<?, ?pages/s]"
      ]
     },
     "metadata": {},
     "output_type": "display_data"
    },
    {
     "data": {
      "application/vnd.jupyter.widget-view+json": {
       "model_id": "0b9460ac1fd546528c3cbae218a8619c",
       "version_major": 2,
       "version_minor": 0
      },
      "text/plain": [
       "Filtering pages:   0%|          | 0/30 [00:00<?, ?pages/s]"
      ]
     },
     "metadata": {},
     "output_type": "display_data"
    }
   ],
   "source": [
    "import polars as pl\n",
    "import os\n",
    "import json\n",
    "from document_processing_system.components.data_ingestion import DataIngestion\n",
    "from document_processing_system.components.data_extraction import DataExtraction\n",
    "\n",
    "for pdf, pdf_path in zip(tqdm(file_names),file_paths):\n",
    "\n",
    "    data_ingester = DataIngestion(pdf_path)\n",
    "    data_extracter = DataExtraction(data_ingester)\n",
    "    pages, tables, images = data_extracter.extract_data()\n",
    "    all_items = data_extracter.filter_pages(pages)\n",
    "\n",
    "    from config.settings import DATA_DIR\n",
    "\n",
    "    # Define the PDF folder path\n",
    "    pdf_folder = os.path.join(DATA_DIR, 'qc_data', 'qc_reports_output', pdf, 'qc_reports_14b')\n",
    "\n",
    "    # Ensure the directory exists\n",
    "    os.makedirs(pdf_folder, exist_ok=True)\n",
    "\n",
    "    response = model.process_items(all_items, output_folder=pdf_folder)\n",
    "\n",
    "    flat_data = [item for sublist in response for item in sublist]\n",
    "\n",
    "    data = pl.DataFrame(flat_data)\n",
    "\n",
    "    # Save data\n",
    "    output_folder = os.path.join(DATA_DIR, 'qc_data', 'qc_reports_output', pdf, 'pdf_data')\n",
    "\n",
    "    data.write_excel(f\"{output_folder}/data.xlsx\")\n",
    "\n",
    "\n",
    "    with open(f'{output_folder}/output.json', \"w\", encoding=\"utf-8\") as json_file:\n",
    "        json.dump(flat_data, json_file, indent=4, ensure_ascii=False)"
   ]
  }
 ],
 "metadata": {
  "kernelspec": {
   "display_name": "venv",
   "language": "python",
   "name": "python3"
  },
  "language_info": {
   "codemirror_mode": {
    "name": "ipython",
    "version": 3
   },
   "file_extension": ".py",
   "mimetype": "text/x-python",
   "name": "python",
   "nbconvert_exporter": "python",
   "pygments_lexer": "ipython3",
   "version": "3.13.2"
  }
 },
 "nbformat": 4,
 "nbformat_minor": 2
}
