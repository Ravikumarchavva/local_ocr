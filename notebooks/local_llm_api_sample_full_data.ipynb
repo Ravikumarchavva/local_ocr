{
 "cells": [
  {
   "cell_type": "code",
   "execution_count": 1,
   "metadata": {},
   "outputs": [],
   "source": [
    "from config.settings import SRC_DIR\n",
    "import os\n",
    "os.chdir(SRC_DIR)"
   ]
  },
  {
   "cell_type": "code",
   "execution_count": 2,
   "metadata": {},
   "outputs": [],
   "source": [
    "from config.settings import DATA_DIR\n",
    "import os\n",
    "from tqdm.auto import tqdm\n",
    "\n",
    "file_dir = DATA_DIR / 'qc_data' / 'qc_templates'\n",
    "files = os.listdir(file_dir)\n",
    "file_names = [file[:-4] for file in files]\n",
    "file_paths = [file_dir/file for file in files]   "
   ]
  },
  {
   "cell_type": "code",
   "execution_count": 3,
   "metadata": {},
   "outputs": [
    {
     "name": "stderr",
     "output_type": "stream",
     "text": [
      "INFO:root:Loading model and tokenizer...\n",
      "INFO:accelerate.utils.modeling:We will use 90% of the memory on device 0 for storing the model, and 10% for the buffer to avoid OOM. You can set `max_memory` in to a higher value to use more memory (at your own risk).\n"
     ]
    },
    {
     "data": {
      "application/vnd.jupyter.widget-view+json": {
       "model_id": "e23eb766dfd24eabb619533acc1403c3",
       "version_major": 2,
       "version_minor": 0
      },
      "text/plain": [
       "Loading checkpoint shards:   0%|          | 0/8 [00:00<?, ?it/s]"
      ]
     },
     "metadata": {},
     "output_type": "display_data"
    },
    {
     "name": "stderr",
     "output_type": "stream",
     "text": [
      "Device set to use cuda:0\n",
      "INFO:root:Model loaded successfully!\n"
     ]
    }
   ],
   "source": [
    "from document_processing_system.components.model_inference import ModelInference\n",
    "\n",
    "# Initialize the model\n",
    "model = ModelInference(model_name=\"Qwen/Qwen2.5-14B\")"
   ]
  },
  {
   "cell_type": "code",
   "execution_count": 4,
   "metadata": {},
   "outputs": [
    {
     "data": {
      "application/vnd.jupyter.widget-view+json": {
       "model_id": "51da8530ded24bf381ffcc5775390b4a",
       "version_major": 2,
       "version_minor": 0
      },
      "text/plain": [
       "  0%|          | 0/7 [00:00<?, ?it/s]"
      ]
     },
     "metadata": {},
     "output_type": "display_data"
    },
    {
     "data": {
      "application/vnd.jupyter.widget-view+json": {
       "model_id": "a89abc28fee840b8ad37b94bc0aadaa5",
       "version_major": 2,
       "version_minor": 0
      },
      "text/plain": [
       "Extracting pages:   0%|          | 0/8 [00:00<?, ?pages/s]"
      ]
     },
     "metadata": {},
     "output_type": "display_data"
    },
    {
     "data": {
      "application/vnd.jupyter.widget-view+json": {
       "model_id": "e16704fefc0a42b9b1761ed170f49d86",
       "version_major": 2,
       "version_minor": 0
      },
      "text/plain": [
       "Filtering pages:   0%|          | 0/8 [00:00<?, ?pages/s]"
      ]
     },
     "metadata": {},
     "output_type": "display_data"
    },
    {
     "data": {
      "application/vnd.jupyter.widget-view+json": {
       "model_id": "36c8d20c27cf4ec0a5e548ba6f0eff97",
       "version_major": 2,
       "version_minor": 0
      },
      "text/plain": [
       "Processing Items:   0%|          | 0/6 [00:00<?, ?item/s]"
      ]
     },
     "metadata": {},
     "output_type": "display_data"
    },
    {
     "name": "stderr",
     "output_type": "stream",
     "text": [
      "INFO:root:Saved: C:\\Users\\ai.users\\local_ocr\\data\\qc_data\\qc_reports_output\\DPS9 PO 177768 - 221234 Summary Report\\qc_reports_14b\\qc_report_item_0.json\n",
      "INFO:root:Saved: C:\\Users\\ai.users\\local_ocr\\data\\qc_data\\qc_reports_output\\DPS9 PO 177768 - 221234 Summary Report\\qc_reports_14b\\qc_report_item_1.json\n",
      "INFO:root:Saved: C:\\Users\\ai.users\\local_ocr\\data\\qc_data\\qc_reports_output\\DPS9 PO 177768 - 221234 Summary Report\\qc_reports_14b\\qc_report_item_2.json\n",
      "INFO:root:Saved: C:\\Users\\ai.users\\local_ocr\\data\\qc_data\\qc_reports_output\\DPS9 PO 177768 - 221234 Summary Report\\qc_reports_14b\\qc_report_item_3.json\n",
      "INFO:root:Saved: C:\\Users\\ai.users\\local_ocr\\data\\qc_data\\qc_reports_output\\DPS9 PO 177768 - 221234 Summary Report\\qc_reports_14b\\qc_report_item_4.json\n",
      "INFO:root:Saved: C:\\Users\\ai.users\\local_ocr\\data\\qc_data\\qc_reports_output\\DPS9 PO 177768 - 221234 Summary Report\\qc_reports_14b\\qc_report_item_5.json\n"
     ]
    },
    {
     "data": {
      "application/vnd.jupyter.widget-view+json": {
       "model_id": "dd9196ce1aa6402c9e9e568780c12762",
       "version_major": 2,
       "version_minor": 0
      },
      "text/plain": [
       "Extracting pages:   0%|          | 0/4 [00:00<?, ?pages/s]"
      ]
     },
     "metadata": {},
     "output_type": "display_data"
    },
    {
     "data": {
      "application/vnd.jupyter.widget-view+json": {
       "model_id": "06c29f44250244d1b1c06c27256d9f83",
       "version_major": 2,
       "version_minor": 0
      },
      "text/plain": [
       "Filtering pages:   0%|          | 0/4 [00:00<?, ?pages/s]"
      ]
     },
     "metadata": {},
     "output_type": "display_data"
    },
    {
     "data": {
      "application/vnd.jupyter.widget-view+json": {
       "model_id": "cc8a22e316554686a725fb54c22c1957",
       "version_major": 2,
       "version_minor": 0
      },
      "text/plain": [
       "Processing Items:   0%|          | 0/1 [00:00<?, ?item/s]"
      ]
     },
     "metadata": {},
     "output_type": "display_data"
    },
    {
     "name": "stderr",
     "output_type": "stream",
     "text": [
      "INFO:root:Saved: C:\\Users\\ai.users\\local_ocr\\data\\qc_data\\qc_reports_output\\PO 177513-221419  Summary and details reports\\qc_reports_14b\\qc_report_item_0.json\n"
     ]
    },
    {
     "data": {
      "application/vnd.jupyter.widget-view+json": {
       "model_id": "0db1e2f8600e48ed91f513ab91b0b191",
       "version_major": 2,
       "version_minor": 0
      },
      "text/plain": [
       "Extracting pages:   0%|          | 0/10 [00:00<?, ?pages/s]"
      ]
     },
     "metadata": {},
     "output_type": "display_data"
    },
    {
     "data": {
      "application/vnd.jupyter.widget-view+json": {
       "model_id": "a2bd7c406c4948709d6852600072eded",
       "version_major": 2,
       "version_minor": 0
      },
      "text/plain": [
       "Filtering pages:   0%|          | 0/10 [00:00<?, ?pages/s]"
      ]
     },
     "metadata": {},
     "output_type": "display_data"
    },
    {
     "data": {
      "application/vnd.jupyter.widget-view+json": {
       "model_id": "feee20ae69eb42b8a1b2705e4330a682",
       "version_major": 2,
       "version_minor": 0
      },
      "text/plain": [
       "Processing Items:   0%|          | 0/6 [00:00<?, ?item/s]"
      ]
     },
     "metadata": {},
     "output_type": "display_data"
    },
    {
     "name": "stderr",
     "output_type": "stream",
     "text": [
      "INFO:root:Saved: C:\\Users\\ai.users\\local_ocr\\data\\qc_data\\qc_reports_output\\PO 177650 Fresh All Green Egypt Strawberries Intake Report\\qc_reports_14b\\qc_report_item_0.json\n",
      "INFO:root:Saved: C:\\Users\\ai.users\\local_ocr\\data\\qc_data\\qc_reports_output\\PO 177650 Fresh All Green Egypt Strawberries Intake Report\\qc_reports_14b\\qc_report_item_1.json\n",
      "INFO:root:Saved: C:\\Users\\ai.users\\local_ocr\\data\\qc_data\\qc_reports_output\\PO 177650 Fresh All Green Egypt Strawberries Intake Report\\qc_reports_14b\\qc_report_item_2.json\n",
      "You seem to be using the pipelines sequentially on GPU. In order to maximize efficiency please use a dataset\n",
      "INFO:root:Saved: C:\\Users\\ai.users\\local_ocr\\data\\qc_data\\qc_reports_output\\PO 177650 Fresh All Green Egypt Strawberries Intake Report\\qc_reports_14b\\qc_report_item_3.json\n",
      "INFO:root:Saved: C:\\Users\\ai.users\\local_ocr\\data\\qc_data\\qc_reports_output\\PO 177650 Fresh All Green Egypt Strawberries Intake Report\\qc_reports_14b\\qc_report_item_4.json\n",
      "INFO:root:Saved: C:\\Users\\ai.users\\local_ocr\\data\\qc_data\\qc_reports_output\\PO 177650 Fresh All Green Egypt Strawberries Intake Report\\qc_reports_14b\\qc_report_item_5.json\n"
     ]
    },
    {
     "data": {
      "application/vnd.jupyter.widget-view+json": {
       "model_id": "4dcf8ac452904440ae10bab21c0a4100",
       "version_major": 2,
       "version_minor": 0
      },
      "text/plain": [
       "Extracting pages:   0%|          | 0/16 [00:00<?, ?pages/s]"
      ]
     },
     "metadata": {},
     "output_type": "display_data"
    },
    {
     "data": {
      "application/vnd.jupyter.widget-view+json": {
       "model_id": "713cbae3c9d04c92bd4697e7eb07248b",
       "version_major": 2,
       "version_minor": 0
      },
      "text/plain": [
       "Filtering pages:   0%|          | 0/16 [00:00<?, ?pages/s]"
      ]
     },
     "metadata": {},
     "output_type": "display_data"
    },
    {
     "data": {
      "application/vnd.jupyter.widget-view+json": {
       "model_id": "9e1e72fd37fe455fb698d30fe43a4ff3",
       "version_major": 2,
       "version_minor": 0
      },
      "text/plain": [
       "Processing Items:   0%|          | 0/12 [00:00<?, ?item/s]"
      ]
     },
     "metadata": {},
     "output_type": "display_data"
    },
    {
     "name": "stderr",
     "output_type": "stream",
     "text": [
      "INFO:root:Saved: C:\\Users\\ai.users\\local_ocr\\data\\qc_data\\qc_reports_output\\PO 177651-Fresh All Green-Egypt-Strawberries-Intake report\\qc_reports_14b\\qc_report_item_0.json\n",
      "INFO:root:Saved: C:\\Users\\ai.users\\local_ocr\\data\\qc_data\\qc_reports_output\\PO 177651-Fresh All Green-Egypt-Strawberries-Intake report\\qc_reports_14b\\qc_report_item_1.json\n",
      "INFO:root:Saved: C:\\Users\\ai.users\\local_ocr\\data\\qc_data\\qc_reports_output\\PO 177651-Fresh All Green-Egypt-Strawberries-Intake report\\qc_reports_14b\\qc_report_item_2.json\n",
      "INFO:root:Saved: C:\\Users\\ai.users\\local_ocr\\data\\qc_data\\qc_reports_output\\PO 177651-Fresh All Green-Egypt-Strawberries-Intake report\\qc_reports_14b\\qc_report_item_3.json\n",
      "INFO:root:Saved: C:\\Users\\ai.users\\local_ocr\\data\\qc_data\\qc_reports_output\\PO 177651-Fresh All Green-Egypt-Strawberries-Intake report\\qc_reports_14b\\qc_report_item_4.json\n",
      "INFO:root:Saved: C:\\Users\\ai.users\\local_ocr\\data\\qc_data\\qc_reports_output\\PO 177651-Fresh All Green-Egypt-Strawberries-Intake report\\qc_reports_14b\\qc_report_item_5.json\n",
      "INFO:root:Saved: C:\\Users\\ai.users\\local_ocr\\data\\qc_data\\qc_reports_output\\PO 177651-Fresh All Green-Egypt-Strawberries-Intake report\\qc_reports_14b\\qc_report_item_6.json\n",
      "INFO:root:Saved: C:\\Users\\ai.users\\local_ocr\\data\\qc_data\\qc_reports_output\\PO 177651-Fresh All Green-Egypt-Strawberries-Intake report\\qc_reports_14b\\qc_report_item_7.json\n",
      "INFO:root:Saved: C:\\Users\\ai.users\\local_ocr\\data\\qc_data\\qc_reports_output\\PO 177651-Fresh All Green-Egypt-Strawberries-Intake report\\qc_reports_14b\\qc_report_item_8.json\n",
      "INFO:root:Saved: C:\\Users\\ai.users\\local_ocr\\data\\qc_data\\qc_reports_output\\PO 177651-Fresh All Green-Egypt-Strawberries-Intake report\\qc_reports_14b\\qc_report_item_9.json\n",
      "INFO:root:Saved: C:\\Users\\ai.users\\local_ocr\\data\\qc_data\\qc_reports_output\\PO 177651-Fresh All Green-Egypt-Strawberries-Intake report\\qc_reports_14b\\qc_report_item_10.json\n",
      "INFO:root:Saved: C:\\Users\\ai.users\\local_ocr\\data\\qc_data\\qc_reports_output\\PO 177651-Fresh All Green-Egypt-Strawberries-Intake report\\qc_reports_14b\\qc_report_item_11.json\n"
     ]
    },
    {
     "data": {
      "application/vnd.jupyter.widget-view+json": {
       "model_id": "e7380f7400a64c7ab80fd6121ae9e0c1",
       "version_major": 2,
       "version_minor": 0
      },
      "text/plain": [
       "Extracting pages:   0%|          | 0/5 [00:00<?, ?pages/s]"
      ]
     },
     "metadata": {},
     "output_type": "display_data"
    },
    {
     "data": {
      "application/vnd.jupyter.widget-view+json": {
       "model_id": "4d98bdb6d95243cf814b965a4ae3358b",
       "version_major": 2,
       "version_minor": 0
      },
      "text/plain": [
       "Filtering pages:   0%|          | 0/5 [00:00<?, ?pages/s]"
      ]
     },
     "metadata": {},
     "output_type": "display_data"
    },
    {
     "data": {
      "application/vnd.jupyter.widget-view+json": {
       "model_id": "9417ea5df8644189aeae258f2f682a2b",
       "version_major": 2,
       "version_minor": 0
      },
      "text/plain": [
       "Processing Items:   0%|          | 0/2 [00:00<?, ?item/s]"
      ]
     },
     "metadata": {},
     "output_type": "display_data"
    },
    {
     "name": "stderr",
     "output_type": "stream",
     "text": [
      "INFO:root:Saved: C:\\Users\\ai.users\\local_ocr\\data\\qc_data\\qc_reports_output\\PO 177692 - PO 221421\\qc_reports_14b\\qc_report_item_0.json\n",
      "INFO:root:Saved: C:\\Users\\ai.users\\local_ocr\\data\\qc_data\\qc_reports_output\\PO 177692 - PO 221421\\qc_reports_14b\\qc_report_item_1.json\n"
     ]
    },
    {
     "data": {
      "application/vnd.jupyter.widget-view+json": {
       "model_id": "369fd0b6ea9f4225bacbdecc2d393796",
       "version_major": 2,
       "version_minor": 0
      },
      "text/plain": [
       "Extracting pages:   0%|          | 0/15 [00:00<?, ?pages/s]"
      ]
     },
     "metadata": {},
     "output_type": "display_data"
    },
    {
     "data": {
      "application/vnd.jupyter.widget-view+json": {
       "model_id": "3b9535f4e52a48a6837ae5fcee890ac8",
       "version_major": 2,
       "version_minor": 0
      },
      "text/plain": [
       "Filtering pages:   0%|          | 0/15 [00:00<?, ?pages/s]"
      ]
     },
     "metadata": {},
     "output_type": "display_data"
    },
    {
     "data": {
      "application/vnd.jupyter.widget-view+json": {
       "model_id": "6c738750e8d14264bd6d6c94f5ccaf0e",
       "version_major": 2,
       "version_minor": 0
      },
      "text/plain": [
       "Processing Items:   0%|          | 0/10 [00:00<?, ?item/s]"
      ]
     },
     "metadata": {},
     "output_type": "display_data"
    },
    {
     "name": "stderr",
     "output_type": "stream",
     "text": [
      "INFO:root:Saved: C:\\Users\\ai.users\\local_ocr\\data\\qc_data\\qc_reports_output\\PO166939-204865\\qc_reports_14b\\qc_report_item_0.json\n",
      "INFO:root:Saved: C:\\Users\\ai.users\\local_ocr\\data\\qc_data\\qc_reports_output\\PO166939-204865\\qc_reports_14b\\qc_report_item_1.json\n",
      "INFO:root:Saved: C:\\Users\\ai.users\\local_ocr\\data\\qc_data\\qc_reports_output\\PO166939-204865\\qc_reports_14b\\qc_report_item_2.json\n",
      "INFO:root:Saved: C:\\Users\\ai.users\\local_ocr\\data\\qc_data\\qc_reports_output\\PO166939-204865\\qc_reports_14b\\qc_report_item_3.json\n",
      "INFO:root:Saved: C:\\Users\\ai.users\\local_ocr\\data\\qc_data\\qc_reports_output\\PO166939-204865\\qc_reports_14b\\qc_report_item_4.json\n",
      "INFO:root:Saved: C:\\Users\\ai.users\\local_ocr\\data\\qc_data\\qc_reports_output\\PO166939-204865\\qc_reports_14b\\qc_report_item_5.json\n",
      "INFO:root:Saved: C:\\Users\\ai.users\\local_ocr\\data\\qc_data\\qc_reports_output\\PO166939-204865\\qc_reports_14b\\qc_report_item_6.json\n",
      "INFO:root:Saved: C:\\Users\\ai.users\\local_ocr\\data\\qc_data\\qc_reports_output\\PO166939-204865\\qc_reports_14b\\qc_report_item_7.json\n",
      "INFO:root:Saved: C:\\Users\\ai.users\\local_ocr\\data\\qc_data\\qc_reports_output\\PO166939-204865\\qc_reports_14b\\qc_report_item_8.json\n",
      "INFO:root:Saved: C:\\Users\\ai.users\\local_ocr\\data\\qc_data\\qc_reports_output\\PO166939-204865\\qc_reports_14b\\qc_report_item_9.json\n"
     ]
    },
    {
     "data": {
      "application/vnd.jupyter.widget-view+json": {
       "model_id": "bae7d98da26b464fa250b4a77f5ac507",
       "version_major": 2,
       "version_minor": 0
      },
      "text/plain": [
       "Extracting pages:   0%|          | 0/30 [00:00<?, ?pages/s]"
      ]
     },
     "metadata": {},
     "output_type": "display_data"
    },
    {
     "data": {
      "application/vnd.jupyter.widget-view+json": {
       "model_id": "ae64db1fef244f7986ad996c9be0d748",
       "version_major": 2,
       "version_minor": 0
      },
      "text/plain": [
       "Filtering pages:   0%|          | 0/30 [00:00<?, ?pages/s]"
      ]
     },
     "metadata": {},
     "output_type": "display_data"
    },
    {
     "data": {
      "application/vnd.jupyter.widget-view+json": {
       "model_id": "332039f440e14410990ccd8cd9235f9f",
       "version_major": 2,
       "version_minor": 0
      },
      "text/plain": [
       "Processing Items:   0%|          | 0/26 [00:00<?, ?item/s]"
      ]
     },
     "metadata": {},
     "output_type": "display_data"
    },
    {
     "name": "stderr",
     "output_type": "stream",
     "text": [
      "INFO:root:Saved: C:\\Users\\ai.users\\local_ocr\\data\\qc_data\\qc_reports_output\\PO177193 Giannakakis Intake report\\qc_reports_14b\\qc_report_item_0.json\n",
      "INFO:root:Saved: C:\\Users\\ai.users\\local_ocr\\data\\qc_data\\qc_reports_output\\PO177193 Giannakakis Intake report\\qc_reports_14b\\qc_report_item_1.json\n",
      "INFO:root:Saved: C:\\Users\\ai.users\\local_ocr\\data\\qc_data\\qc_reports_output\\PO177193 Giannakakis Intake report\\qc_reports_14b\\qc_report_item_2.json\n",
      "INFO:root:Saved: C:\\Users\\ai.users\\local_ocr\\data\\qc_data\\qc_reports_output\\PO177193 Giannakakis Intake report\\qc_reports_14b\\qc_report_item_3.json\n",
      "INFO:root:Saved: C:\\Users\\ai.users\\local_ocr\\data\\qc_data\\qc_reports_output\\PO177193 Giannakakis Intake report\\qc_reports_14b\\qc_report_item_4.json\n",
      "INFO:root:Saved: C:\\Users\\ai.users\\local_ocr\\data\\qc_data\\qc_reports_output\\PO177193 Giannakakis Intake report\\qc_reports_14b\\qc_report_item_5.json\n",
      "INFO:root:Saved: C:\\Users\\ai.users\\local_ocr\\data\\qc_data\\qc_reports_output\\PO177193 Giannakakis Intake report\\qc_reports_14b\\qc_report_item_6.json\n",
      "INFO:root:Saved: C:\\Users\\ai.users\\local_ocr\\data\\qc_data\\qc_reports_output\\PO177193 Giannakakis Intake report\\qc_reports_14b\\qc_report_item_7.json\n",
      "INFO:root:Saved: C:\\Users\\ai.users\\local_ocr\\data\\qc_data\\qc_reports_output\\PO177193 Giannakakis Intake report\\qc_reports_14b\\qc_report_item_8.json\n",
      "INFO:root:Saved: C:\\Users\\ai.users\\local_ocr\\data\\qc_data\\qc_reports_output\\PO177193 Giannakakis Intake report\\qc_reports_14b\\qc_report_item_9.json\n",
      "INFO:root:Saved: C:\\Users\\ai.users\\local_ocr\\data\\qc_data\\qc_reports_output\\PO177193 Giannakakis Intake report\\qc_reports_14b\\qc_report_item_10.json\n",
      "INFO:root:Saved: C:\\Users\\ai.users\\local_ocr\\data\\qc_data\\qc_reports_output\\PO177193 Giannakakis Intake report\\qc_reports_14b\\qc_report_item_11.json\n",
      "INFO:root:Saved: C:\\Users\\ai.users\\local_ocr\\data\\qc_data\\qc_reports_output\\PO177193 Giannakakis Intake report\\qc_reports_14b\\qc_report_item_12.json\n",
      "INFO:root:Saved: C:\\Users\\ai.users\\local_ocr\\data\\qc_data\\qc_reports_output\\PO177193 Giannakakis Intake report\\qc_reports_14b\\qc_report_item_13.json\n",
      "INFO:root:Saved: C:\\Users\\ai.users\\local_ocr\\data\\qc_data\\qc_reports_output\\PO177193 Giannakakis Intake report\\qc_reports_14b\\qc_report_item_14.json\n",
      "INFO:root:Saved: C:\\Users\\ai.users\\local_ocr\\data\\qc_data\\qc_reports_output\\PO177193 Giannakakis Intake report\\qc_reports_14b\\qc_report_item_15.json\n",
      "INFO:root:Saved: C:\\Users\\ai.users\\local_ocr\\data\\qc_data\\qc_reports_output\\PO177193 Giannakakis Intake report\\qc_reports_14b\\qc_report_item_16.json\n",
      "INFO:root:Saved: C:\\Users\\ai.users\\local_ocr\\data\\qc_data\\qc_reports_output\\PO177193 Giannakakis Intake report\\qc_reports_14b\\qc_report_item_17.json\n",
      "INFO:root:Saved: C:\\Users\\ai.users\\local_ocr\\data\\qc_data\\qc_reports_output\\PO177193 Giannakakis Intake report\\qc_reports_14b\\qc_report_item_18.json\n",
      "INFO:root:Saved: C:\\Users\\ai.users\\local_ocr\\data\\qc_data\\qc_reports_output\\PO177193 Giannakakis Intake report\\qc_reports_14b\\qc_report_item_19.json\n",
      "INFO:root:Saved: C:\\Users\\ai.users\\local_ocr\\data\\qc_data\\qc_reports_output\\PO177193 Giannakakis Intake report\\qc_reports_14b\\qc_report_item_20.json\n",
      "INFO:root:Saved: C:\\Users\\ai.users\\local_ocr\\data\\qc_data\\qc_reports_output\\PO177193 Giannakakis Intake report\\qc_reports_14b\\qc_report_item_21.json\n",
      "INFO:root:Saved: C:\\Users\\ai.users\\local_ocr\\data\\qc_data\\qc_reports_output\\PO177193 Giannakakis Intake report\\qc_reports_14b\\qc_report_item_22.json\n",
      "INFO:root:Saved: C:\\Users\\ai.users\\local_ocr\\data\\qc_data\\qc_reports_output\\PO177193 Giannakakis Intake report\\qc_reports_14b\\qc_report_item_23.json\n",
      "INFO:root:Saved: C:\\Users\\ai.users\\local_ocr\\data\\qc_data\\qc_reports_output\\PO177193 Giannakakis Intake report\\qc_reports_14b\\qc_report_item_24.json\n",
      "INFO:root:Saved: C:\\Users\\ai.users\\local_ocr\\data\\qc_data\\qc_reports_output\\PO177193 Giannakakis Intake report\\qc_reports_14b\\qc_report_item_25.json\n"
     ]
    }
   ],
   "source": [
    "import polars as pl\n",
    "import os\n",
    "import json\n",
    "from document_processing_system.components.data_ingestion import DataIngestion\n",
    "from document_processing_system.components.data_extraction import DataExtraction\n",
    "\n",
    "for pdf, pdf_path in zip(tqdm(file_names),file_paths):\n",
    "\n",
    "    data_ingester = DataIngestion(pdf_path)\n",
    "    data_extracter = DataExtraction(data_ingester)\n",
    "    pages, tables, images = data_extracter.extract_data()\n",
    "    all_items = data_extracter.filter_pages(pages)\n",
    "\n",
    "    from config.settings import DATA_DIR\n",
    "\n",
    "    # Define the PDF folder path\n",
    "    pdf_folder = os.path.join(DATA_DIR, 'qc_data', 'qc_reports_output', pdf, 'qc_reports_14b')\n",
    "\n",
    "    # Ensure the directory exists\n",
    "    os.makedirs(pdf_folder, exist_ok=True)\n",
    "\n",
    "    response = model.process_items(all_items, output_folder=pdf_folder)\n",
    "\n",
    "    flat_data = [item for sublist in response for item in sublist]\n",
    "\n",
    "    data = pl.DataFrame(flat_data)\n",
    "\n",
    "    # Save data\n",
    "    output_folder = os.path.join(DATA_DIR, 'qc_data', 'qc_reports_output', pdf, 'pdf_data')\n",
    "\n",
    "    # Ensure the directory exists\n",
    "    os.makedirs(output_folder, exist_ok=True)\n",
    "\n",
    "    data.write_excel(f\"{output_folder}/data.xlsx\")\n",
    "\n",
    "\n",
    "    with open(f'{output_folder}/output.json', \"w\", encoding=\"utf-8\") as json_file:\n",
    "        json.dump(flat_data, json_file, indent=4, ensure_ascii=False)"
   ]
  },
  {
   "cell_type": "code",
   "execution_count": null,
   "metadata": {},
   "outputs": [],
   "source": []
  }
 ],
 "metadata": {
  "kernelspec": {
   "display_name": "venv",
   "language": "python",
   "name": "python3"
  },
  "language_info": {
   "codemirror_mode": {
    "name": "ipython",
    "version": 3
   },
   "file_extension": ".py",
   "mimetype": "text/x-python",
   "name": "python",
   "nbconvert_exporter": "python",
   "pygments_lexer": "ipython3",
   "version": "3.13.2"
  }
 },
 "nbformat": 4,
 "nbformat_minor": 2
}
