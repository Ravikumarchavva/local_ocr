{
 "cells": [
  {
   "cell_type": "code",
   "execution_count": 1,
   "metadata": {},
   "outputs": [],
   "source": [
    "from config.settings import SRC_DIR\n",
    "import os\n",
    "os.chdir(SRC_DIR)"
   ]
  },
  {
   "cell_type": "code",
   "execution_count": 2,
   "metadata": {},
   "outputs": [],
   "source": [
    "from document_processing_system.components.gemini_components.data_ingestion import DataIngestion\n",
    "from config.settings import DATA_DIR\n",
    "import os\n",
    "\n",
    "file_dir = DATA_DIR / 'qc_data' / 'qc_templates'\n",
    "files = os.listdir(file_dir)\n",
    "file_path = file_dir / files[-2]\n",
    "data_ingestion = DataIngestion()\n",
    "data = data_ingestion.transform(file_path)"
   ]
  },
  {
   "cell_type": "code",
   "execution_count": 3,
   "metadata": {},
   "outputs": [],
   "source": [
    "from document_processing_system.components.gemini_components.model import OCR_Model\n",
    "from config.gemini.dps_qc_report import MODEL\n",
    "\n",
    "ocr_model = OCR_Model(model= MODEL)\n",
    "document = ocr_model.extract(data)"
   ]
  },
  {
   "cell_type": "code",
   "execution_count": 7,
   "metadata": {},
   "outputs": [
    {
     "data": {
      "text/html": [
       "<div><style>\n",
       ".dataframe > thead > tr,\n",
       ".dataframe > tbody > tr {\n",
       "  text-align: right;\n",
       "  white-space: pre-wrap;\n",
       "}\n",
       "</style>\n",
       "<small>shape: (10, 42)</small><table border=\"1\" class=\"dataframe\"><thead><tr><th>product_name</th><th>RAG</th><th>expected_qty</th><th>received_qty</th><th>supplier_code</th><th>supplier</th><th>coo</th><th>received_date</th><th>inspection_date</th><th>print_date</th><th>iss_pallet_id</th><th>supplier_pallet_id</th><th>customer_pallet_id</th><th>variety</th><th>brand</th><th>organic</th><th>does_pallet_meet_spec</th><th>end_customer</th><th>harvest_date</th><th>dp</th><th>total_defects</th><th>size_calibre</th><th>lot_number</th><th>inspector</th><th>estimated_yield</th><th>defects_tot</th><th>defects_fruit_total</th><th>packs_with_defects</th><th>waste_tot</th><th>waste_fruit_total</th><th>packs_with_waste</th><th>minor_defects_tot</th><th>minor_fruit_total</th><th>major_defects_tot</th><th>major_fruit_total</th><th>packs_with_major</th><th>box_pack_weights</th><th>weight_readings</th><th>fruit_weights</th><th>qa_comments</th><th>packs_fruits_inspected_sample_size</th><th>boxes_inspected</th></tr><tr><td>str</td><td>str</td><td>str</td><td>str</td><td>str</td><td>str</td><td>str</td><td>str</td><td>str</td><td>str</td><td>str</td><td>str</td><td>str</td><td>str</td><td>str</td><td>str</td><td>str</td><td>str</td><td>str</td><td>str</td><td>str</td><td>str</td><td>str</td><td>str</td><td>str</td><td>str</td><td>str</td><td>str</td><td>str</td><td>str</td><td>str</td><td>str</td><td>str</td><td>str</td><td>str</td><td>str</td><td>str</td><td>str</td><td>str</td><td>str</td><td>i64</td><td>i64</td></tr></thead><tbody><tr><td>&quot;Apricots 20x320g Punnet&quot;</td><td>&quot;BLUE&quot;</td><td>&quot;80&quot;</td><td>&quot;80&quot;</td><td>&quot;GUIM€&quot;</td><td>&quot;Guimera Fruits&quot;</td><td>&quot;Spain&quot;</td><td>&quot;03/09/2024 09:59:25&quot;</td><td>&quot;04/09/2024 06:35:59&quot;</td><td>&quot;04/09/2024&quot;</td><td>&quot;7761770&quot;</td><td>&quot;5808239&quot;</td><td>&quot;5808239&quot;</td><td>&quot;Fardao&quot;</td><td>&quot;CORE&quot;</td><td>&quot;NO&quot;</td><td>&quot;YES&quot;</td><td>&quot;Tesco&quot;</td><td>&quot;30/08/2024&quot;</td><td>&quot;7&quot;</td><td>&quot;5.00%&quot;</td><td>&quot;40/45&quot;</td><td>&quot;508164&quot;</td><td>&quot;Hanna.Dziuba&quot;</td><td>&quot;100%&quot;</td><td>&quot;0.00%&quot;</td><td>&quot;0&quot;</td><td>&quot;0.00%&quot;</td><td>&quot;0.00%&quot;</td><td>&quot;0&quot;</td><td>&quot;0%&quot;</td><td>&quot;3.33%&quot;</td><td>&quot;2&quot;</td><td>&quot;1.67%&quot;</td><td>&quot;1&quot;</td><td>&quot;0%&quot;</td><td>&quot;Avg 340g; Min 326g; Max 367g U…</td><td>&quot;326 326 328 330 330 331 332 33…</td><td>&quot;Avg 44g 44&quot;</td><td>&quot;Dry splits. Scarring. Isolated…</td><td>60</td><td>0</td></tr><tr><td>&quot;Apricots 20x320g Punnet&quot;</td><td>&quot;AMBER&quot;</td><td>&quot;80&quot;</td><td>&quot;80&quot;</td><td>&quot;GUIM€&quot;</td><td>&quot;Guimera Fruits&quot;</td><td>&quot;Spain&quot;</td><td>&quot;03/09/2024 09:59:25&quot;</td><td>&quot;04/09/2024 06:35:59&quot;</td><td>&quot;04/09/2024&quot;</td><td>&quot;7761771&quot;</td><td>&quot;5808238&quot;</td><td>&quot;5808238&quot;</td><td>&quot;Fardao&quot;</td><td>&quot;CORE&quot;</td><td>&quot;NO&quot;</td><td>&quot;YES&quot;</td><td>&quot;Tesco&quot;</td><td>&quot;30/08/2024&quot;</td><td>&quot;7&quot;</td><td>&quot;10.83%&quot;</td><td>&quot;40/45&quot;</td><td>&quot;508165&quot;</td><td>&quot;Hanna.Dziuba&quot;</td><td>&quot;94%&quot;</td><td>&quot;0.00%&quot;</td><td>&quot;0&quot;</td><td>&quot;0.00%&quot;</td><td>&quot;2.50%&quot;</td><td>&quot;3&quot;</td><td>&quot;0%&quot;</td><td>&quot;5.00%&quot;</td><td>&quot;6&quot;</td><td>&quot;3.33%&quot;</td><td>&quot;4&quot;</td><td>&quot;0%&quot;</td><td>&quot;Avg 352g; Min 335g; Max 375g&quot;</td><td>&quot;337\n",
       "335\n",
       "375 338 338 340 341 34…</td><td>&quot;Avg 44g 44&quot;</td><td>&quot;Waste. Bruising. Dry splits. S…</td><td>120</td><td>0</td></tr><tr><td>&quot;Apricots 20x320g Punnet&quot;</td><td>&quot;BLUE&quot;</td><td>&quot;80&quot;</td><td>&quot;80&quot;</td><td>&quot;GUIM€&quot;</td><td>&quot;Guimera Fruits&quot;</td><td>&quot;Spain&quot;</td><td>&quot;03/09/2024 09:59:25&quot;</td><td>&quot;04/09/2024 06:35:59&quot;</td><td>&quot;04/09/2024&quot;</td><td>&quot;7763099&quot;</td><td>&quot;7763099&quot;</td><td>null</td><td>&quot;Fardao&quot;</td><td>&quot;CORE&quot;</td><td>&quot;NO&quot;</td><td>&quot;YES&quot;</td><td>&quot;Tesco&quot;</td><td>&quot;30/08/2024&quot;</td><td>&quot;7&quot;</td><td>&quot;5.00%&quot;</td><td>&quot;40/45&quot;</td><td>&quot;508164&quot;</td><td>&quot;Hanna.Dziuba&quot;</td><td>&quot;100%&quot;</td><td>&quot;0.00%&quot;</td><td>&quot;0&quot;</td><td>&quot;0.00%&quot;</td><td>&quot;0.00%&quot;</td><td>&quot;0&quot;</td><td>&quot;0%&quot;</td><td>&quot;3.33%&quot;</td><td>&quot;2&quot;</td><td>&quot;1.67%&quot;</td><td>&quot;1&quot;</td><td>&quot;0%&quot;</td><td>&quot;Avg 345g; Min 324g; Max 361g U…</td><td>&quot;324\n",
       "361 330 331 335 337 338 34…</td><td>&quot;Avg 44g 44&quot;</td><td>&quot;Dry splits. Scarring. Isolated…</td><td>60</td><td>0</td></tr><tr><td>&quot;Apricots 20x320g Punnet&quot;</td><td>&quot;BLUE&quot;</td><td>&quot;80&quot;</td><td>&quot;80&quot;</td><td>&quot;GUIM€&quot;</td><td>&quot;Guimera Fruits&quot;</td><td>&quot;Spain&quot;</td><td>&quot;03/09/2024 09:59:25&quot;</td><td>&quot;04/09/2024 06:35:59&quot;</td><td>&quot;04/09/2024&quot;</td><td>&quot;7763100&quot;</td><td>&quot;7763100&quot;</td><td>null</td><td>&quot;Fardao&quot;</td><td>&quot;CORE&quot;</td><td>&quot;NO&quot;</td><td>&quot;YES&quot;</td><td>&quot;Tesco&quot;</td><td>&quot;30/08/2024&quot;</td><td>&quot;7&quot;</td><td>&quot;5.00%&quot;</td><td>&quot;40/45&quot;</td><td>&quot;508164&quot;</td><td>&quot;Hanna.Dziuba&quot;</td><td>&quot;100%&quot;</td><td>&quot;0.00%&quot;</td><td>&quot;0&quot;</td><td>&quot;0.00%&quot;</td><td>&quot;0.00%&quot;</td><td>&quot;0&quot;</td><td>&quot;0%&quot;</td><td>&quot;3.33%&quot;</td><td>&quot;2&quot;</td><td>&quot;1.67%&quot;</td><td>&quot;1&quot;</td><td>&quot;0%&quot;</td><td>&quot;Avg 348g; Min 330g; Max 380g U…</td><td>&quot;330\n",
       "380 331 332 333 336 340 34…</td><td>&quot;Avg 44g 44&quot;</td><td>&quot;Dry splits. Scarring. Isolated…</td><td>60</td><td>0</td></tr><tr><td>&quot;Apricots 20x320g Punnet&quot;</td><td>&quot;BLUE&quot;</td><td>&quot;80&quot;</td><td>&quot;80&quot;</td><td>&quot;GUIM€&quot;</td><td>&quot;Guimera Fruits&quot;</td><td>&quot;Spain&quot;</td><td>&quot;03/09/2024 09:59:25&quot;</td><td>&quot;04/09/2024 06:35:59&quot;</td><td>&quot;04/09/2024&quot;</td><td>&quot;7763101&quot;</td><td>&quot;7763101&quot;</td><td>null</td><td>&quot;Fardao&quot;</td><td>&quot;CORE&quot;</td><td>&quot;NO&quot;</td><td>&quot;YES&quot;</td><td>&quot;Tesco&quot;</td><td>&quot;30/08/2024&quot;</td><td>&quot;7&quot;</td><td>&quot;5.00%&quot;</td><td>&quot;40/45&quot;</td><td>&quot;508164&quot;</td><td>&quot;Hanna.Dziuba&quot;</td><td>&quot;100%&quot;</td><td>&quot;0.00%&quot;</td><td>&quot;0&quot;</td><td>&quot;0.00%&quot;</td><td>&quot;0.00%&quot;</td><td>&quot;0&quot;</td><td>&quot;0%&quot;</td><td>&quot;3.33%&quot;</td><td>&quot;2&quot;</td><td>&quot;1.67%&quot;</td><td>&quot;1&quot;</td><td>&quot;0%&quot;</td><td>&quot;Avg 341g; Min 324g; Max 359g U…</td><td>&quot;324\n",
       "499 332 333 336 336 337 33…</td><td>&quot;Avg 44g 44&quot;</td><td>&quot;Dry splits. Scarring. Isolated…</td><td>60</td><td>0</td></tr><tr><td>&quot;Apricots 20x320g Punnet&quot;</td><td>&quot;AMBER&quot;</td><td>&quot;80&quot;</td><td>&quot;80&quot;</td><td>&quot;GUIM€&quot;</td><td>&quot;Guimera Fruits&quot;</td><td>&quot;Spain&quot;</td><td>&quot;03/09/2024 09:59:25&quot;</td><td>&quot;04/09/2024 06:35:59&quot;</td><td>&quot;04/09/2024&quot;</td><td>&quot;7763102&quot;</td><td>&quot;7763102&quot;</td><td>null</td><td>&quot;Fardao&quot;</td><td>&quot;CORE&quot;</td><td>&quot;NO&quot;</td><td>&quot;YES&quot;</td><td>&quot;Tesco&quot;</td><td>&quot;30/08/2024&quot;</td><td>&quot;7&quot;</td><td>&quot;10.83%&quot;</td><td>&quot;35/40&quot;</td><td>&quot;508164&quot;</td><td>&quot;Hanna.Dziuba&quot;</td><td>&quot;94%&quot;</td><td>&quot;0.00%&quot;</td><td>&quot;0&quot;</td><td>&quot;0.00%&quot;</td><td>&quot;2.50%&quot;</td><td>&quot;3&quot;</td><td>&quot;0%&quot;</td><td>&quot;5.00%&quot;</td><td>&quot;6&quot;</td><td>&quot;3.33%&quot;</td><td>&quot;4&quot;</td><td>&quot;0%&quot;</td><td>&quot;Avg 350g; Min 327g; Max 379g&quot;</td><td>&quot;327\n",
       "379 335 339 339 340 341 34…</td><td>&quot;Avg 44g 44&quot;</td><td>&quot;Waste. Bruising. Dry splits. S…</td><td>120</td><td>0</td></tr><tr><td>&quot;Apricots 20x320g Punnet&quot;</td><td>&quot;BLUE&quot;</td><td>&quot;80&quot;</td><td>&quot;80&quot;</td><td>&quot;GUIM€&quot;</td><td>&quot;Guimera Fruits&quot;</td><td>&quot;Spain&quot;</td><td>&quot;03/09/2024 09:59:25&quot;</td><td>&quot;04/09/2024 06:35:59&quot;</td><td>&quot;04/09/2024&quot;</td><td>&quot;7763103&quot;</td><td>&quot;7763103&quot;</td><td>null</td><td>&quot;Fardao&quot;</td><td>&quot;CORE&quot;</td><td>&quot;NO&quot;</td><td>&quot;YES&quot;</td><td>&quot;Tesco&quot;</td><td>&quot;30/08/2024&quot;</td><td>&quot;7&quot;</td><td>&quot;5.00%&quot;</td><td>&quot;35/40&quot;</td><td>&quot;508164&quot;</td><td>&quot;Hanna.Dziuba&quot;</td><td>&quot;100%&quot;</td><td>&quot;0.00%&quot;</td><td>&quot;0&quot;</td><td>&quot;0.00%&quot;</td><td>&quot;0.00%&quot;</td><td>&quot;0&quot;</td><td>&quot;0%&quot;</td><td>&quot;3.33%&quot;</td><td>&quot;2&quot;</td><td>&quot;1.67%&quot;</td><td>&quot;1&quot;</td><td>&quot;0%&quot;</td><td>&quot;Avg 325g; Min 313g; Max 340g U…</td><td>&quot;313\n",
       "340 315 320 320 321 321 32…</td><td>&quot;Avg 44g 44&quot;</td><td>&quot;Dry splits. Scarring. Isolated…</td><td>60</td><td>0</td></tr><tr><td>&quot;Apricots 20x320g Punnet&quot;</td><td>&quot;AMBER&quot;</td><td>&quot;80&quot;</td><td>&quot;80&quot;</td><td>&quot;GUIM€&quot;</td><td>&quot;Guimera Fruits&quot;</td><td>&quot;Spain&quot;</td><td>&quot;03/09/2024 09:59:25&quot;</td><td>&quot;04/09/2024 06:35:59&quot;</td><td>&quot;04/09/2024&quot;</td><td>&quot;7763104&quot;</td><td>&quot;7763104&quot;</td><td>null</td><td>&quot;Fardao&quot;</td><td>&quot;CORE&quot;</td><td>&quot;NO&quot;</td><td>&quot;YES&quot;</td><td>&quot;Tesco&quot;</td><td>&quot;30/08/2024&quot;</td><td>&quot;7&quot;</td><td>&quot;10.83%&quot;</td><td>&quot;35/40&quot;</td><td>&quot;508164&quot;</td><td>&quot;Hanna.Dziuba&quot;</td><td>&quot;94%&quot;</td><td>&quot;0.00%&quot;</td><td>&quot;0&quot;</td><td>&quot;0.00%&quot;</td><td>&quot;2.50%&quot;</td><td>&quot;3&quot;</td><td>&quot;0%&quot;</td><td>&quot;5.00%&quot;</td><td>&quot;6&quot;</td><td>&quot;3.33%&quot;</td><td>&quot;4&quot;</td><td>&quot;0%&quot;</td><td>&quot;Avg 343g; Min 328g; Max 363g&quot;</td><td>&quot;328\n",
       "363 336 337 337 338 338 33…</td><td>&quot;Avg 44g 44&quot;</td><td>&quot;Waste. Bruising. Dry splits. S…</td><td>120</td><td>0</td></tr><tr><td>&quot;Apricots 20x320g Punnet&quot;</td><td>&quot;BLUE&quot;</td><td>&quot;80&quot;</td><td>&quot;80&quot;</td><td>&quot;GUIM€&quot;</td><td>&quot;Guimera Fruits&quot;</td><td>&quot;Spain&quot;</td><td>&quot;03/09/2024 09:59:25&quot;</td><td>&quot;04/09/2024 06:35:59&quot;</td><td>&quot;04/09/2024&quot;</td><td>&quot;7763105&quot;</td><td>&quot;7763105&quot;</td><td>null</td><td>&quot;Fardao&quot;</td><td>&quot;CORE&quot;</td><td>&quot;NO&quot;</td><td>&quot;YES&quot;</td><td>&quot;Tesco&quot;</td><td>&quot;30/08/2024&quot;</td><td>&quot;7&quot;</td><td>&quot;5.00%&quot;</td><td>&quot;40/45&quot;</td><td>&quot;508165&quot;</td><td>&quot;Hanna.Dziuba&quot;</td><td>&quot;100%&quot;</td><td>&quot;0.00%&quot;</td><td>&quot;0&quot;</td><td>&quot;0.00%&quot;</td><td>&quot;0.00%&quot;</td><td>&quot;0&quot;</td><td>&quot;0%&quot;</td><td>&quot;3.33%&quot;</td><td>&quot;2&quot;</td><td>&quot;1.67%&quot;</td><td>&quot;1&quot;</td><td>&quot;0%&quot;</td><td>&quot;Avg 343g; Min 330g; Max 360g U…</td><td>&quot;330\n",
       "360 330 331 331 331 332 33…</td><td>&quot;Avg 44g 44&quot;</td><td>&quot;Dry splits. Scarring. Isolated…</td><td>60</td><td>0</td></tr><tr><td>&quot;Apricots 20x320g Punnet&quot;</td><td>&quot;BLUE&quot;</td><td>&quot;80&quot;</td><td>&quot;80&quot;</td><td>&quot;GUIM€&quot;</td><td>&quot;Guimera Fruits&quot;</td><td>&quot;Spain&quot;</td><td>&quot;03/09/2024 09:59:25&quot;</td><td>&quot;04/09/2024 06:35:59&quot;</td><td>&quot;04/09/2024&quot;</td><td>&quot;7763106&quot;</td><td>&quot;7763106&quot;</td><td>null</td><td>&quot;Fardao&quot;</td><td>&quot;CORE&quot;</td><td>&quot;NO&quot;</td><td>&quot;YES&quot;</td><td>&quot;Tesco&quot;</td><td>&quot;30/08/2024&quot;</td><td>&quot;7&quot;</td><td>&quot;5.00%&quot;</td><td>&quot;40/45&quot;</td><td>&quot;508165&quot;</td><td>&quot;Hanna.Dziuba&quot;</td><td>&quot;100%&quot;</td><td>&quot;0.00%&quot;</td><td>&quot;0&quot;</td><td>&quot;0.00%&quot;</td><td>&quot;0.00%&quot;</td><td>&quot;0&quot;</td><td>&quot;0%&quot;</td><td>&quot;3.33%&quot;</td><td>&quot;2&quot;</td><td>&quot;1.67%&quot;</td><td>&quot;1&quot;</td><td>&quot;0%&quot;</td><td>&quot;Avg 343g; Min 330g; Max 357g U…</td><td>&quot;330\n",
       "357 334 335 336 336 337 33…</td><td>&quot;Avg 44g 44&quot;</td><td>&quot;Dry splits. Scarring. Isolated…</td><td>60</td><td>0</td></tr></tbody></table></div>"
      ],
      "text/plain": [
       "shape: (10, 42)\n",
       "┌────────────┬───────┬────────────┬────────────┬───┬───────────┬───────────┬───────────┬───────────┐\n",
       "│ product_na ┆ RAG   ┆ expected_q ┆ received_q ┆ … ┆ fruit_wei ┆ qa_commen ┆ packs_fru ┆ boxes_ins │\n",
       "│ me         ┆ ---   ┆ ty         ┆ ty         ┆   ┆ ghts      ┆ ts        ┆ its_inspe ┆ pected    │\n",
       "│ ---        ┆ str   ┆ ---        ┆ ---        ┆   ┆ ---       ┆ ---       ┆ cted_samp ┆ ---       │\n",
       "│ str        ┆       ┆ str        ┆ str        ┆   ┆ str       ┆ str       ┆ le_…      ┆ i64       │\n",
       "│            ┆       ┆            ┆            ┆   ┆           ┆           ┆ ---       ┆           │\n",
       "│            ┆       ┆            ┆            ┆   ┆           ┆           ┆ i64       ┆           │\n",
       "╞════════════╪═══════╪════════════╪════════════╪═══╪═══════════╪═══════════╪═══════════╪═══════════╡\n",
       "│ Apricots   ┆ BLUE  ┆ 80         ┆ 80         ┆ … ┆ Avg 44g   ┆ Dry       ┆ 60        ┆ 0         │\n",
       "│ 20x320g    ┆       ┆            ┆            ┆   ┆ 44        ┆ splits.   ┆           ┆           │\n",
       "│ Punnet     ┆       ┆            ┆            ┆   ┆           ┆ Scarring. ┆           ┆           │\n",
       "│            ┆       ┆            ┆            ┆   ┆           ┆ Isolated… ┆           ┆           │\n",
       "│ Apricots   ┆ AMBER ┆ 80         ┆ 80         ┆ … ┆ Avg 44g   ┆ Waste.    ┆ 120       ┆ 0         │\n",
       "│ 20x320g    ┆       ┆            ┆            ┆   ┆ 44        ┆ Bruising. ┆           ┆           │\n",
       "│ Punnet     ┆       ┆            ┆            ┆   ┆           ┆ Dry       ┆           ┆           │\n",
       "│            ┆       ┆            ┆            ┆   ┆           ┆ splits.   ┆           ┆           │\n",
       "│            ┆       ┆            ┆            ┆   ┆           ┆ S…        ┆           ┆           │\n",
       "│ Apricots   ┆ BLUE  ┆ 80         ┆ 80         ┆ … ┆ Avg 44g   ┆ Dry       ┆ 60        ┆ 0         │\n",
       "│ 20x320g    ┆       ┆            ┆            ┆   ┆ 44        ┆ splits.   ┆           ┆           │\n",
       "│ Punnet     ┆       ┆            ┆            ┆   ┆           ┆ Scarring. ┆           ┆           │\n",
       "│            ┆       ┆            ┆            ┆   ┆           ┆ Isolated… ┆           ┆           │\n",
       "│ Apricots   ┆ BLUE  ┆ 80         ┆ 80         ┆ … ┆ Avg 44g   ┆ Dry       ┆ 60        ┆ 0         │\n",
       "│ 20x320g    ┆       ┆            ┆            ┆   ┆ 44        ┆ splits.   ┆           ┆           │\n",
       "│ Punnet     ┆       ┆            ┆            ┆   ┆           ┆ Scarring. ┆           ┆           │\n",
       "│            ┆       ┆            ┆            ┆   ┆           ┆ Isolated… ┆           ┆           │\n",
       "│ Apricots   ┆ BLUE  ┆ 80         ┆ 80         ┆ … ┆ Avg 44g   ┆ Dry       ┆ 60        ┆ 0         │\n",
       "│ 20x320g    ┆       ┆            ┆            ┆   ┆ 44        ┆ splits.   ┆           ┆           │\n",
       "│ Punnet     ┆       ┆            ┆            ┆   ┆           ┆ Scarring. ┆           ┆           │\n",
       "│            ┆       ┆            ┆            ┆   ┆           ┆ Isolated… ┆           ┆           │\n",
       "│ Apricots   ┆ AMBER ┆ 80         ┆ 80         ┆ … ┆ Avg 44g   ┆ Waste.    ┆ 120       ┆ 0         │\n",
       "│ 20x320g    ┆       ┆            ┆            ┆   ┆ 44        ┆ Bruising. ┆           ┆           │\n",
       "│ Punnet     ┆       ┆            ┆            ┆   ┆           ┆ Dry       ┆           ┆           │\n",
       "│            ┆       ┆            ┆            ┆   ┆           ┆ splits.   ┆           ┆           │\n",
       "│            ┆       ┆            ┆            ┆   ┆           ┆ S…        ┆           ┆           │\n",
       "│ Apricots   ┆ BLUE  ┆ 80         ┆ 80         ┆ … ┆ Avg 44g   ┆ Dry       ┆ 60        ┆ 0         │\n",
       "│ 20x320g    ┆       ┆            ┆            ┆   ┆ 44        ┆ splits.   ┆           ┆           │\n",
       "│ Punnet     ┆       ┆            ┆            ┆   ┆           ┆ Scarring. ┆           ┆           │\n",
       "│            ┆       ┆            ┆            ┆   ┆           ┆ Isolated… ┆           ┆           │\n",
       "│ Apricots   ┆ AMBER ┆ 80         ┆ 80         ┆ … ┆ Avg 44g   ┆ Waste.    ┆ 120       ┆ 0         │\n",
       "│ 20x320g    ┆       ┆            ┆            ┆   ┆ 44        ┆ Bruising. ┆           ┆           │\n",
       "│ Punnet     ┆       ┆            ┆            ┆   ┆           ┆ Dry       ┆           ┆           │\n",
       "│            ┆       ┆            ┆            ┆   ┆           ┆ splits.   ┆           ┆           │\n",
       "│            ┆       ┆            ┆            ┆   ┆           ┆ S…        ┆           ┆           │\n",
       "│ Apricots   ┆ BLUE  ┆ 80         ┆ 80         ┆ … ┆ Avg 44g   ┆ Dry       ┆ 60        ┆ 0         │\n",
       "│ 20x320g    ┆       ┆            ┆            ┆   ┆ 44        ┆ splits.   ┆           ┆           │\n",
       "│ Punnet     ┆       ┆            ┆            ┆   ┆           ┆ Scarring. ┆           ┆           │\n",
       "│            ┆       ┆            ┆            ┆   ┆           ┆ Isolated… ┆           ┆           │\n",
       "│ Apricots   ┆ BLUE  ┆ 80         ┆ 80         ┆ … ┆ Avg 44g   ┆ Dry       ┆ 60        ┆ 0         │\n",
       "│ 20x320g    ┆       ┆            ┆            ┆   ┆ 44        ┆ splits.   ┆           ┆           │\n",
       "│ Punnet     ┆       ┆            ┆            ┆   ┆           ┆ Scarring. ┆           ┆           │\n",
       "│            ┆       ┆            ┆            ┆   ┆           ┆ Isolated… ┆           ┆           │\n",
       "└────────────┴───────┴────────────┴────────────┴───┴───────────┴───────────┴───────────┴───────────┘"
      ]
     },
     "execution_count": 7,
     "metadata": {},
     "output_type": "execute_result"
    }
   ],
   "source": [
    "import polars as pl\n",
    "\n",
    "data = pl.DataFrame(document.data)\n",
    "data"
   ]
  },
  {
   "cell_type": "code",
   "execution_count": 17,
   "metadata": {},
   "outputs": [
    {
     "data": {
      "text/html": [
       "<div><style>\n",
       ".dataframe > thead > tr,\n",
       ".dataframe > tbody > tr {\n",
       "  text-align: right;\n",
       "  white-space: pre-wrap;\n",
       "}\n",
       "</style>\n",
       "<small>shape: (10, 42)</small><table border=\"1\" class=\"dataframe\"><thead><tr><th>product_name</th><th>RAG</th><th>expected_qty</th><th>received_qty</th><th>supplier_code</th><th>supplier</th><th>coo</th><th>received_date</th><th>inspection_date</th><th>print_date</th><th>iss_pallet_id</th><th>supplier_pallet_id</th><th>customer_pallet_id</th><th>variety</th><th>brand</th><th>organic</th><th>does_pallet_meet_spec</th><th>end_customer</th><th>harvest_date</th><th>dp</th><th>total_defects</th><th>size_calibre</th><th>lot_number</th><th>inspector</th><th>estimated_yield</th><th>defects_tot</th><th>defects_fruit_total</th><th>packs_with_defects</th><th>waste_tot</th><th>waste_fruit_total</th><th>packs_with_waste</th><th>minor_defects_tot</th><th>minor_fruit_total</th><th>major_defects_tot</th><th>major_fruit_total</th><th>packs_with_major</th><th>box_pack_weights</th><th>weight_readings</th><th>fruit_weights</th><th>qa_comments</th><th>packs_fruits_inspected_sample_size</th><th>boxes_inspected</th></tr><tr><td>str</td><td>str</td><td>str</td><td>str</td><td>str</td><td>str</td><td>str</td><td>str</td><td>str</td><td>str</td><td>str</td><td>str</td><td>str</td><td>str</td><td>str</td><td>str</td><td>str</td><td>str</td><td>str</td><td>str</td><td>str</td><td>str</td><td>str</td><td>str</td><td>str</td><td>str</td><td>str</td><td>str</td><td>str</td><td>str</td><td>str</td><td>str</td><td>str</td><td>str</td><td>str</td><td>str</td><td>str</td><td>str</td><td>str</td><td>str</td><td>i64</td><td>i64</td></tr></thead><tbody><tr><td>&quot;Apricots 20x320g Punnet&quot;</td><td>&quot;BLUE&quot;</td><td>&quot;80&quot;</td><td>&quot;80&quot;</td><td>&quot;GUIM€&quot;</td><td>&quot;Guimera Fruits&quot;</td><td>&quot;Spain&quot;</td><td>&quot;03/09/2024 09:59:25&quot;</td><td>&quot;04/09/2024 06:35:59&quot;</td><td>&quot;04/09/2024&quot;</td><td>&quot;7761770&quot;</td><td>&quot;5808239&quot;</td><td>&quot;5808239&quot;</td><td>&quot;Fardao&quot;</td><td>&quot;CORE&quot;</td><td>&quot;NO&quot;</td><td>&quot;YES&quot;</td><td>&quot;Tesco&quot;</td><td>&quot;30/08/2024&quot;</td><td>&quot;7&quot;</td><td>&quot;5.00%&quot;</td><td>&quot;40/45&quot;</td><td>&quot;508164&quot;</td><td>&quot;Hanna.Dziuba&quot;</td><td>&quot;100%&quot;</td><td>&quot;0.00%&quot;</td><td>&quot;0&quot;</td><td>&quot;0.00%&quot;</td><td>&quot;0.00%&quot;</td><td>&quot;0&quot;</td><td>&quot;0%&quot;</td><td>&quot;3.33%&quot;</td><td>&quot;2&quot;</td><td>&quot;1.67%&quot;</td><td>&quot;1&quot;</td><td>&quot;0%&quot;</td><td>&quot;Avg 340g; Min 326g; Max 367g U…</td><td>&quot;326 326 328 330 330 331 332 33…</td><td>&quot;Avg 44g 44&quot;</td><td>&quot;Dry splits. Scarring. Isolated…</td><td>60</td><td>0</td></tr><tr><td>&quot;Apricots 20x320g Punnet&quot;</td><td>&quot;AMBER&quot;</td><td>&quot;80&quot;</td><td>&quot;80&quot;</td><td>&quot;GUIM€&quot;</td><td>&quot;Guimera Fruits&quot;</td><td>&quot;Spain&quot;</td><td>&quot;03/09/2024 09:59:25&quot;</td><td>&quot;04/09/2024 06:35:59&quot;</td><td>&quot;04/09/2024&quot;</td><td>&quot;7761771&quot;</td><td>&quot;5808238&quot;</td><td>&quot;5808238&quot;</td><td>&quot;Fardao&quot;</td><td>&quot;CORE&quot;</td><td>&quot;NO&quot;</td><td>&quot;YES&quot;</td><td>&quot;Tesco&quot;</td><td>&quot;30/08/2024&quot;</td><td>&quot;7&quot;</td><td>&quot;10.83%&quot;</td><td>&quot;40/45&quot;</td><td>&quot;508165&quot;</td><td>&quot;Hanna.Dziuba&quot;</td><td>&quot;94%&quot;</td><td>&quot;0.00%&quot;</td><td>&quot;0&quot;</td><td>&quot;0.00%&quot;</td><td>&quot;2.50%&quot;</td><td>&quot;3&quot;</td><td>&quot;0%&quot;</td><td>&quot;5.00%&quot;</td><td>&quot;6&quot;</td><td>&quot;3.33%&quot;</td><td>&quot;4&quot;</td><td>&quot;0%&quot;</td><td>&quot;Avg 352g; Min 335g; Max 375g&quot;</td><td>&quot;337\n",
       "335\n",
       "375 338 338 340 341 34…</td><td>&quot;Avg 44g 44&quot;</td><td>&quot;Waste. Bruising. Dry splits. S…</td><td>120</td><td>0</td></tr><tr><td>&quot;Apricots 20x320g Punnet&quot;</td><td>&quot;BLUE&quot;</td><td>&quot;80&quot;</td><td>&quot;80&quot;</td><td>&quot;GUIM€&quot;</td><td>&quot;Guimera Fruits&quot;</td><td>&quot;Spain&quot;</td><td>&quot;03/09/2024 09:59:25&quot;</td><td>&quot;04/09/2024 06:35:59&quot;</td><td>&quot;04/09/2024&quot;</td><td>&quot;7763099&quot;</td><td>&quot;7763099&quot;</td><td>null</td><td>&quot;Fardao&quot;</td><td>&quot;CORE&quot;</td><td>&quot;NO&quot;</td><td>&quot;YES&quot;</td><td>&quot;Tesco&quot;</td><td>&quot;30/08/2024&quot;</td><td>&quot;7&quot;</td><td>&quot;5.00%&quot;</td><td>&quot;40/45&quot;</td><td>&quot;508164&quot;</td><td>&quot;Hanna.Dziuba&quot;</td><td>&quot;100%&quot;</td><td>&quot;0.00%&quot;</td><td>&quot;0&quot;</td><td>&quot;0.00%&quot;</td><td>&quot;0.00%&quot;</td><td>&quot;0&quot;</td><td>&quot;0%&quot;</td><td>&quot;3.33%&quot;</td><td>&quot;2&quot;</td><td>&quot;1.67%&quot;</td><td>&quot;1&quot;</td><td>&quot;0%&quot;</td><td>&quot;Avg 345g; Min 324g; Max 361g U…</td><td>&quot;324\n",
       "361 330 331 335 337 338 34…</td><td>&quot;Avg 44g 44&quot;</td><td>&quot;Dry splits. Scarring. Isolated…</td><td>60</td><td>0</td></tr><tr><td>&quot;Apricots 20x320g Punnet&quot;</td><td>&quot;BLUE&quot;</td><td>&quot;80&quot;</td><td>&quot;80&quot;</td><td>&quot;GUIM€&quot;</td><td>&quot;Guimera Fruits&quot;</td><td>&quot;Spain&quot;</td><td>&quot;03/09/2024 09:59:25&quot;</td><td>&quot;04/09/2024 06:35:59&quot;</td><td>&quot;04/09/2024&quot;</td><td>&quot;7763100&quot;</td><td>&quot;7763100&quot;</td><td>null</td><td>&quot;Fardao&quot;</td><td>&quot;CORE&quot;</td><td>&quot;NO&quot;</td><td>&quot;YES&quot;</td><td>&quot;Tesco&quot;</td><td>&quot;30/08/2024&quot;</td><td>&quot;7&quot;</td><td>&quot;5.00%&quot;</td><td>&quot;40/45&quot;</td><td>&quot;508164&quot;</td><td>&quot;Hanna.Dziuba&quot;</td><td>&quot;100%&quot;</td><td>&quot;0.00%&quot;</td><td>&quot;0&quot;</td><td>&quot;0.00%&quot;</td><td>&quot;0.00%&quot;</td><td>&quot;0&quot;</td><td>&quot;0%&quot;</td><td>&quot;3.33%&quot;</td><td>&quot;2&quot;</td><td>&quot;1.67%&quot;</td><td>&quot;1&quot;</td><td>&quot;0%&quot;</td><td>&quot;Avg 348g; Min 330g; Max 380g U…</td><td>&quot;330\n",
       "380 331 332 333 336 340 34…</td><td>&quot;Avg 44g 44&quot;</td><td>&quot;Dry splits. Scarring. Isolated…</td><td>60</td><td>0</td></tr><tr><td>&quot;Apricots 20x320g Punnet&quot;</td><td>&quot;BLUE&quot;</td><td>&quot;80&quot;</td><td>&quot;80&quot;</td><td>&quot;GUIM€&quot;</td><td>&quot;Guimera Fruits&quot;</td><td>&quot;Spain&quot;</td><td>&quot;03/09/2024 09:59:25&quot;</td><td>&quot;04/09/2024 06:35:59&quot;</td><td>&quot;04/09/2024&quot;</td><td>&quot;7763101&quot;</td><td>&quot;7763101&quot;</td><td>null</td><td>&quot;Fardao&quot;</td><td>&quot;CORE&quot;</td><td>&quot;NO&quot;</td><td>&quot;YES&quot;</td><td>&quot;Tesco&quot;</td><td>&quot;30/08/2024&quot;</td><td>&quot;7&quot;</td><td>&quot;5.00%&quot;</td><td>&quot;40/45&quot;</td><td>&quot;508164&quot;</td><td>&quot;Hanna.Dziuba&quot;</td><td>&quot;100%&quot;</td><td>&quot;0.00%&quot;</td><td>&quot;0&quot;</td><td>&quot;0.00%&quot;</td><td>&quot;0.00%&quot;</td><td>&quot;0&quot;</td><td>&quot;0%&quot;</td><td>&quot;3.33%&quot;</td><td>&quot;2&quot;</td><td>&quot;1.67%&quot;</td><td>&quot;1&quot;</td><td>&quot;0%&quot;</td><td>&quot;Avg 341g; Min 324g; Max 359g U…</td><td>&quot;324\n",
       "499 332 333 336 336 337 33…</td><td>&quot;Avg 44g 44&quot;</td><td>&quot;Dry splits. Scarring. Isolated…</td><td>60</td><td>0</td></tr><tr><td>&quot;Apricots 20x320g Punnet&quot;</td><td>&quot;AMBER&quot;</td><td>&quot;80&quot;</td><td>&quot;80&quot;</td><td>&quot;GUIM€&quot;</td><td>&quot;Guimera Fruits&quot;</td><td>&quot;Spain&quot;</td><td>&quot;03/09/2024 09:59:25&quot;</td><td>&quot;04/09/2024 06:35:59&quot;</td><td>&quot;04/09/2024&quot;</td><td>&quot;7763102&quot;</td><td>&quot;7763102&quot;</td><td>null</td><td>&quot;Fardao&quot;</td><td>&quot;CORE&quot;</td><td>&quot;NO&quot;</td><td>&quot;YES&quot;</td><td>&quot;Tesco&quot;</td><td>&quot;30/08/2024&quot;</td><td>&quot;7&quot;</td><td>&quot;10.83%&quot;</td><td>&quot;35/40&quot;</td><td>&quot;508164&quot;</td><td>&quot;Hanna.Dziuba&quot;</td><td>&quot;94%&quot;</td><td>&quot;0.00%&quot;</td><td>&quot;0&quot;</td><td>&quot;0.00%&quot;</td><td>&quot;2.50%&quot;</td><td>&quot;3&quot;</td><td>&quot;0%&quot;</td><td>&quot;5.00%&quot;</td><td>&quot;6&quot;</td><td>&quot;3.33%&quot;</td><td>&quot;4&quot;</td><td>&quot;0%&quot;</td><td>&quot;Avg 350g; Min 327g; Max 379g&quot;</td><td>&quot;327\n",
       "379 335 339 339 340 341 34…</td><td>&quot;Avg 44g 44&quot;</td><td>&quot;Waste. Bruising. Dry splits. S…</td><td>120</td><td>0</td></tr><tr><td>&quot;Apricots 20x320g Punnet&quot;</td><td>&quot;BLUE&quot;</td><td>&quot;80&quot;</td><td>&quot;80&quot;</td><td>&quot;GUIM€&quot;</td><td>&quot;Guimera Fruits&quot;</td><td>&quot;Spain&quot;</td><td>&quot;03/09/2024 09:59:25&quot;</td><td>&quot;04/09/2024 06:35:59&quot;</td><td>&quot;04/09/2024&quot;</td><td>&quot;7763103&quot;</td><td>&quot;7763103&quot;</td><td>null</td><td>&quot;Fardao&quot;</td><td>&quot;CORE&quot;</td><td>&quot;NO&quot;</td><td>&quot;YES&quot;</td><td>&quot;Tesco&quot;</td><td>&quot;30/08/2024&quot;</td><td>&quot;7&quot;</td><td>&quot;5.00%&quot;</td><td>&quot;35/40&quot;</td><td>&quot;508164&quot;</td><td>&quot;Hanna.Dziuba&quot;</td><td>&quot;100%&quot;</td><td>&quot;0.00%&quot;</td><td>&quot;0&quot;</td><td>&quot;0.00%&quot;</td><td>&quot;0.00%&quot;</td><td>&quot;0&quot;</td><td>&quot;0%&quot;</td><td>&quot;3.33%&quot;</td><td>&quot;2&quot;</td><td>&quot;1.67%&quot;</td><td>&quot;1&quot;</td><td>&quot;0%&quot;</td><td>&quot;Avg 325g; Min 313g; Max 340g U…</td><td>&quot;313\n",
       "340 315 320 320 321 321 32…</td><td>&quot;Avg 44g 44&quot;</td><td>&quot;Dry splits. Scarring. Isolated…</td><td>60</td><td>0</td></tr><tr><td>&quot;Apricots 20x320g Punnet&quot;</td><td>&quot;AMBER&quot;</td><td>&quot;80&quot;</td><td>&quot;80&quot;</td><td>&quot;GUIM€&quot;</td><td>&quot;Guimera Fruits&quot;</td><td>&quot;Spain&quot;</td><td>&quot;03/09/2024 09:59:25&quot;</td><td>&quot;04/09/2024 06:35:59&quot;</td><td>&quot;04/09/2024&quot;</td><td>&quot;7763104&quot;</td><td>&quot;7763104&quot;</td><td>null</td><td>&quot;Fardao&quot;</td><td>&quot;CORE&quot;</td><td>&quot;NO&quot;</td><td>&quot;YES&quot;</td><td>&quot;Tesco&quot;</td><td>&quot;30/08/2024&quot;</td><td>&quot;7&quot;</td><td>&quot;10.83%&quot;</td><td>&quot;35/40&quot;</td><td>&quot;508164&quot;</td><td>&quot;Hanna.Dziuba&quot;</td><td>&quot;94%&quot;</td><td>&quot;0.00%&quot;</td><td>&quot;0&quot;</td><td>&quot;0.00%&quot;</td><td>&quot;2.50%&quot;</td><td>&quot;3&quot;</td><td>&quot;0%&quot;</td><td>&quot;5.00%&quot;</td><td>&quot;6&quot;</td><td>&quot;3.33%&quot;</td><td>&quot;4&quot;</td><td>&quot;0%&quot;</td><td>&quot;Avg 343g; Min 328g; Max 363g&quot;</td><td>&quot;328\n",
       "363 336 337 337 338 338 33…</td><td>&quot;Avg 44g 44&quot;</td><td>&quot;Waste. Bruising. Dry splits. S…</td><td>120</td><td>0</td></tr><tr><td>&quot;Apricots 20x320g Punnet&quot;</td><td>&quot;BLUE&quot;</td><td>&quot;80&quot;</td><td>&quot;80&quot;</td><td>&quot;GUIM€&quot;</td><td>&quot;Guimera Fruits&quot;</td><td>&quot;Spain&quot;</td><td>&quot;03/09/2024 09:59:25&quot;</td><td>&quot;04/09/2024 06:35:59&quot;</td><td>&quot;04/09/2024&quot;</td><td>&quot;7763105&quot;</td><td>&quot;7763105&quot;</td><td>null</td><td>&quot;Fardao&quot;</td><td>&quot;CORE&quot;</td><td>&quot;NO&quot;</td><td>&quot;YES&quot;</td><td>&quot;Tesco&quot;</td><td>&quot;30/08/2024&quot;</td><td>&quot;7&quot;</td><td>&quot;5.00%&quot;</td><td>&quot;40/45&quot;</td><td>&quot;508165&quot;</td><td>&quot;Hanna.Dziuba&quot;</td><td>&quot;100%&quot;</td><td>&quot;0.00%&quot;</td><td>&quot;0&quot;</td><td>&quot;0.00%&quot;</td><td>&quot;0.00%&quot;</td><td>&quot;0&quot;</td><td>&quot;0%&quot;</td><td>&quot;3.33%&quot;</td><td>&quot;2&quot;</td><td>&quot;1.67%&quot;</td><td>&quot;1&quot;</td><td>&quot;0%&quot;</td><td>&quot;Avg 343g; Min 330g; Max 360g U…</td><td>&quot;330\n",
       "360 330 331 331 331 332 33…</td><td>&quot;Avg 44g 44&quot;</td><td>&quot;Dry splits. Scarring. Isolated…</td><td>60</td><td>0</td></tr><tr><td>&quot;Apricots 20x320g Punnet&quot;</td><td>&quot;BLUE&quot;</td><td>&quot;80&quot;</td><td>&quot;80&quot;</td><td>&quot;GUIM€&quot;</td><td>&quot;Guimera Fruits&quot;</td><td>&quot;Spain&quot;</td><td>&quot;03/09/2024 09:59:25&quot;</td><td>&quot;04/09/2024 06:35:59&quot;</td><td>&quot;04/09/2024&quot;</td><td>&quot;7763106&quot;</td><td>&quot;7763106&quot;</td><td>null</td><td>&quot;Fardao&quot;</td><td>&quot;CORE&quot;</td><td>&quot;NO&quot;</td><td>&quot;YES&quot;</td><td>&quot;Tesco&quot;</td><td>&quot;30/08/2024&quot;</td><td>&quot;7&quot;</td><td>&quot;5.00%&quot;</td><td>&quot;40/45&quot;</td><td>&quot;508165&quot;</td><td>&quot;Hanna.Dziuba&quot;</td><td>&quot;100%&quot;</td><td>&quot;0.00%&quot;</td><td>&quot;0&quot;</td><td>&quot;0.00%&quot;</td><td>&quot;0.00%&quot;</td><td>&quot;0&quot;</td><td>&quot;0%&quot;</td><td>&quot;3.33%&quot;</td><td>&quot;2&quot;</td><td>&quot;1.67%&quot;</td><td>&quot;1&quot;</td><td>&quot;0%&quot;</td><td>&quot;Avg 343g; Min 330g; Max 357g U…</td><td>&quot;330\n",
       "357 334 335 336 336 337 33…</td><td>&quot;Avg 44g 44&quot;</td><td>&quot;Dry splits. Scarring. Isolated…</td><td>60</td><td>0</td></tr></tbody></table></div>"
      ],
      "text/plain": [
       "shape: (10, 42)\n",
       "┌────────────┬───────┬────────────┬────────────┬───┬───────────┬───────────┬───────────┬───────────┐\n",
       "│ product_na ┆ RAG   ┆ expected_q ┆ received_q ┆ … ┆ fruit_wei ┆ qa_commen ┆ packs_fru ┆ boxes_ins │\n",
       "│ me         ┆ ---   ┆ ty         ┆ ty         ┆   ┆ ghts      ┆ ts        ┆ its_inspe ┆ pected    │\n",
       "│ ---        ┆ str   ┆ ---        ┆ ---        ┆   ┆ ---       ┆ ---       ┆ cted_samp ┆ ---       │\n",
       "│ str        ┆       ┆ str        ┆ str        ┆   ┆ str       ┆ str       ┆ le_…      ┆ i64       │\n",
       "│            ┆       ┆            ┆            ┆   ┆           ┆           ┆ ---       ┆           │\n",
       "│            ┆       ┆            ┆            ┆   ┆           ┆           ┆ i64       ┆           │\n",
       "╞════════════╪═══════╪════════════╪════════════╪═══╪═══════════╪═══════════╪═══════════╪═══════════╡\n",
       "│ Apricots   ┆ BLUE  ┆ 80         ┆ 80         ┆ … ┆ Avg 44g   ┆ Dry       ┆ 60        ┆ 0         │\n",
       "│ 20x320g    ┆       ┆            ┆            ┆   ┆ 44        ┆ splits.   ┆           ┆           │\n",
       "│ Punnet     ┆       ┆            ┆            ┆   ┆           ┆ Scarring. ┆           ┆           │\n",
       "│            ┆       ┆            ┆            ┆   ┆           ┆ Isolated… ┆           ┆           │\n",
       "│ Apricots   ┆ AMBER ┆ 80         ┆ 80         ┆ … ┆ Avg 44g   ┆ Waste.    ┆ 120       ┆ 0         │\n",
       "│ 20x320g    ┆       ┆            ┆            ┆   ┆ 44        ┆ Bruising. ┆           ┆           │\n",
       "│ Punnet     ┆       ┆            ┆            ┆   ┆           ┆ Dry       ┆           ┆           │\n",
       "│            ┆       ┆            ┆            ┆   ┆           ┆ splits.   ┆           ┆           │\n",
       "│            ┆       ┆            ┆            ┆   ┆           ┆ S…        ┆           ┆           │\n",
       "│ Apricots   ┆ BLUE  ┆ 80         ┆ 80         ┆ … ┆ Avg 44g   ┆ Dry       ┆ 60        ┆ 0         │\n",
       "│ 20x320g    ┆       ┆            ┆            ┆   ┆ 44        ┆ splits.   ┆           ┆           │\n",
       "│ Punnet     ┆       ┆            ┆            ┆   ┆           ┆ Scarring. ┆           ┆           │\n",
       "│            ┆       ┆            ┆            ┆   ┆           ┆ Isolated… ┆           ┆           │\n",
       "│ Apricots   ┆ BLUE  ┆ 80         ┆ 80         ┆ … ┆ Avg 44g   ┆ Dry       ┆ 60        ┆ 0         │\n",
       "│ 20x320g    ┆       ┆            ┆            ┆   ┆ 44        ┆ splits.   ┆           ┆           │\n",
       "│ Punnet     ┆       ┆            ┆            ┆   ┆           ┆ Scarring. ┆           ┆           │\n",
       "│            ┆       ┆            ┆            ┆   ┆           ┆ Isolated… ┆           ┆           │\n",
       "│ Apricots   ┆ BLUE  ┆ 80         ┆ 80         ┆ … ┆ Avg 44g   ┆ Dry       ┆ 60        ┆ 0         │\n",
       "│ 20x320g    ┆       ┆            ┆            ┆   ┆ 44        ┆ splits.   ┆           ┆           │\n",
       "│ Punnet     ┆       ┆            ┆            ┆   ┆           ┆ Scarring. ┆           ┆           │\n",
       "│            ┆       ┆            ┆            ┆   ┆           ┆ Isolated… ┆           ┆           │\n",
       "│ Apricots   ┆ AMBER ┆ 80         ┆ 80         ┆ … ┆ Avg 44g   ┆ Waste.    ┆ 120       ┆ 0         │\n",
       "│ 20x320g    ┆       ┆            ┆            ┆   ┆ 44        ┆ Bruising. ┆           ┆           │\n",
       "│ Punnet     ┆       ┆            ┆            ┆   ┆           ┆ Dry       ┆           ┆           │\n",
       "│            ┆       ┆            ┆            ┆   ┆           ┆ splits.   ┆           ┆           │\n",
       "│            ┆       ┆            ┆            ┆   ┆           ┆ S…        ┆           ┆           │\n",
       "│ Apricots   ┆ BLUE  ┆ 80         ┆ 80         ┆ … ┆ Avg 44g   ┆ Dry       ┆ 60        ┆ 0         │\n",
       "│ 20x320g    ┆       ┆            ┆            ┆   ┆ 44        ┆ splits.   ┆           ┆           │\n",
       "│ Punnet     ┆       ┆            ┆            ┆   ┆           ┆ Scarring. ┆           ┆           │\n",
       "│            ┆       ┆            ┆            ┆   ┆           ┆ Isolated… ┆           ┆           │\n",
       "│ Apricots   ┆ AMBER ┆ 80         ┆ 80         ┆ … ┆ Avg 44g   ┆ Waste.    ┆ 120       ┆ 0         │\n",
       "│ 20x320g    ┆       ┆            ┆            ┆   ┆ 44        ┆ Bruising. ┆           ┆           │\n",
       "│ Punnet     ┆       ┆            ┆            ┆   ┆           ┆ Dry       ┆           ┆           │\n",
       "│            ┆       ┆            ┆            ┆   ┆           ┆ splits.   ┆           ┆           │\n",
       "│            ┆       ┆            ┆            ┆   ┆           ┆ S…        ┆           ┆           │\n",
       "│ Apricots   ┆ BLUE  ┆ 80         ┆ 80         ┆ … ┆ Avg 44g   ┆ Dry       ┆ 60        ┆ 0         │\n",
       "│ 20x320g    ┆       ┆            ┆            ┆   ┆ 44        ┆ splits.   ┆           ┆           │\n",
       "│ Punnet     ┆       ┆            ┆            ┆   ┆           ┆ Scarring. ┆           ┆           │\n",
       "│            ┆       ┆            ┆            ┆   ┆           ┆ Isolated… ┆           ┆           │\n",
       "│ Apricots   ┆ BLUE  ┆ 80         ┆ 80         ┆ … ┆ Avg 44g   ┆ Dry       ┆ 60        ┆ 0         │\n",
       "│ 20x320g    ┆       ┆            ┆            ┆   ┆ 44        ┆ splits.   ┆           ┆           │\n",
       "│ Punnet     ┆       ┆            ┆            ┆   ┆           ┆ Scarring. ┆           ┆           │\n",
       "│            ┆       ┆            ┆            ┆   ┆           ┆ Isolated… ┆           ┆           │\n",
       "└────────────┴───────┴────────────┴────────────┴───┴───────────┴───────────┴───────────┴───────────┘"
      ]
     },
     "execution_count": 17,
     "metadata": {},
     "output_type": "execute_result"
    }
   ],
   "source": [
    "pdf = str(file_path).split('\\\\')[-1][:-4]\n",
    "output_folder = os.path.join(DATA_DIR, 'qc_data', 'qc_reports_output', pdf, 'pdf_data', 'gemini')\n",
    "data.write_excel(f\"{output_folder}/data.xlsx\")\n",
    "data"
   ]
  },
  {
   "cell_type": "code",
   "execution_count": 19,
   "metadata": {},
   "outputs": [],
   "source": [
    "import json\n",
    "\n",
    "with open(f'{output_folder}/output.json', \"w\", encoding=\"utf-8\") as json_file:\n",
    "    json.dump(document.data, json_file, indent=4, ensure_ascii=False)"
   ]
  }
 ],
 "metadata": {
  "kernelspec": {
   "display_name": "venv",
   "language": "python",
   "name": "python3"
  },
  "language_info": {
   "codemirror_mode": {
    "name": "ipython",
    "version": 3
   },
   "file_extension": ".py",
   "mimetype": "text/x-python",
   "name": "python",
   "nbconvert_exporter": "python",
   "pygments_lexer": "ipython3",
   "version": "3.13.2"
  }
 },
 "nbformat": 4,
 "nbformat_minor": 2
}
