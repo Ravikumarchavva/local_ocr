{
 "cells": [
  {
   "cell_type": "markdown",
   "metadata": {},
   "source": [
    "# Getting data"
   ]
  },
  {
   "cell_type": "code",
   "execution_count": 1,
   "metadata": {},
   "outputs": [],
   "source": [
    "import pyodbc\n",
    "import pandas as pd\n",
    "import os\n",
    "from config.settings import DATA_DIR\n",
    "\n",
    "# Load the Excel file\n",
    "pdf = 'PO166939-204865'\n",
    "data_folder = os.path.join(DATA_DIR, 'qc_data', 'qc_reports_output', pdf, 'pdf_data')\n",
    "excel_file = \"data.xlsx\"\n",
    "df = pd.read_excel(os.path.join(data_folder, excel_file), engine=\"openpyxl\")"
   ]
  },
  {
   "cell_type": "markdown",
   "metadata": {},
   "source": [
    "# post processing"
   ]
  },
  {
   "cell_type": "code",
   "execution_count": 2,
   "metadata": {},
   "outputs": [],
   "source": [
    "# Convert 'customer_pallet_id' to integers, handle NaN values\n",
    "df['customer_pallet_id'] = df['customer_pallet_id'].fillna(0).astype(int)\n",
    "\n",
    "# For float columns that need precision, round them or cast to the appropriate type\n",
    "df['total_defects_percentage'] = df['total_defects_percentage'].round(3)\n",
    "df['estimated_yield_percentage'] = df['estimated_yield_percentage'].round(3)\n",
    "\n",
    "\n",
    "df['received_date'] = pd.to_datetime(df['received_date'], errors='coerce')\n",
    "df['inspection_date'] = pd.to_datetime(df['inspection_date'], errors='coerce')\n",
    "df['print_date'] = pd.to_datetime(df['print_date'], errors='coerce').dt.date\n",
    "df['harvest_date'] = pd.to_datetime(df['harvest_date'], errors='coerce').dt.date"
   ]
  },
  {
   "cell_type": "code",
   "execution_count": 3,
   "metadata": {},
   "outputs": [
    {
     "name": "stdout",
     "output_type": "stream",
     "text": [
      "Data inserted successfully!\n"
     ]
    }
   ],
   "source": [
    "# Establish database connection\n",
    "conn = pyodbc.connect(\n",
    "    'DRIVER={ODBC Driver 17 for SQL Server};'\n",
    "    'SERVER=RAVIKUMAR;'\n",
    "    'DATABASE=DPSLocalDB;'\n",
    "    'Trusted_Connection=yes;'\n",
    ")\n",
    "\n",
    "cursor = conn.cursor()\n",
    "\n",
    "# Properly format column names\n",
    "columns = ', '.join([f\"[{col}]\" for col in df.columns])  # Handles spaces in column names\n",
    "placeholders = ', '.join(['?' for _ in df.columns])  # Generates (?, ?, ?, ...)\n",
    "\n",
    "# Define SQL INSERT statement with dynamic columns\n",
    "insert_query = f\"\"\"\n",
    "INSERT INTO FruitInspection ({columns}) VALUES ({placeholders})\n",
    "\"\"\"\n",
    "\n",
    "# Insert each row into the database\n",
    "for _, row in df.iterrows():\n",
    "    cursor.execute(insert_query, tuple(row))\n",
    "\n",
    "# Commit changes and close connection\n",
    "conn.commit()\n",
    "cursor.close()\n",
    "conn.close()\n",
    "\n",
    "print(\"Data inserted successfully!\")"
   ]
  }
 ],
 "metadata": {
  "kernelspec": {
   "display_name": "gemini",
   "language": "python",
   "name": "python3"
  },
  "language_info": {
   "codemirror_mode": {
    "name": "ipython",
    "version": 3
   },
   "file_extension": ".py",
   "mimetype": "text/x-python",
   "name": "python",
   "nbconvert_exporter": "python",
   "pygments_lexer": "ipython3",
   "version": "3.11.10"
  }
 },
 "nbformat": 4,
 "nbformat_minor": 2
}
