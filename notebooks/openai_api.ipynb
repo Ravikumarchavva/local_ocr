{
 "cells": [
  {
   "cell_type": "code",
   "execution_count": 1,
   "metadata": {},
   "outputs": [],
   "source": [
    "from openai import OpenAI\n",
    "from config.open_ai.dps_qc_report import get_qc_prompt\n",
    "\n",
    "prompt = get_qc_prompt()\n",
    "\n",
    "client = OpenAI()\n",
    "\n",
    "assistant = client.beta.assistants.create(\n",
    "  name=\"Financial Analyst Assistant\",\n",
    "  instructions=prompt,\n",
    "  model=\"gpt-4o\",\n",
    "  tools=[{\"type\": \"file_search\"}],\n",
    ")"
   ]
  },
  {
   "cell_type": "code",
   "execution_count": 2,
   "metadata": {},
   "outputs": [
    {
     "name": "stdout",
     "output_type": "stream",
     "text": [
      "completed\n",
      "FileCounts(cancelled=0, completed=1, failed=0, in_progress=0, total=1)\n"
     ]
    }
   ],
   "source": [
    "# Create a vector store caled \"DPS items\"\n",
    "vector_store = client.beta.vector_stores.create(name=\"DPS items\")\n",
    "\n",
    "from config.settings import DATA_DIR\n",
    "import os\n",
    "\n",
    "file_dir = DATA_DIR / 'qc_data' / 'qc_templates'\n",
    "files = os.listdir(file_dir)\n",
    "file_path = file_dir / files[-2]\n",
    "\n",
    "# Ready the files for upload to OpenAI\n",
    "file_paths = [file_path]\n",
    "file_streams = [open(path, \"rb\") for path in file_paths]\n",
    "\n",
    "# Use the upload and poll SDK helper to upload the files, add them to the vector store,\n",
    "# and poll the status of the file batch for completion.\n",
    "file_batch = client.beta.vector_stores.file_batches.upload_and_poll(\n",
    "  vector_store_id=vector_store.id, files=file_streams\n",
    ")\n",
    "\n",
    "# You can print the status and the file counts of the batch to see the result of this operation.\n",
    "print(file_batch.status)\n",
    "print(file_batch.file_counts)"
   ]
  },
  {
   "cell_type": "code",
   "execution_count": 3,
   "metadata": {},
   "outputs": [],
   "source": [
    "assistant = client.beta.assistants.update(\n",
    "  assistant_id=assistant.id,\n",
    "  tool_resources={\"file_search\": {\"vector_store_ids\": [vector_store.id]}},\n",
    ")"
   ]
  },
  {
   "cell_type": "code",
   "execution_count": 4,
   "metadata": {},
   "outputs": [
    {
     "name": "stdout",
     "output_type": "stream",
     "text": [
      "ToolResourcesFileSearch(vector_store_ids=['vs_67a9d4d4675081919fcc40ffe21d72eb'])\n"
     ]
    }
   ],
   "source": [
    "# Upload the user provided file to OpenAI\n",
    "message_file = client.files.create(\n",
    "  file=open(file_path, \"rb\"), purpose=\"assistants\"\n",
    ")\n",
    "\n",
    "# Create a thread and attach the file to the message\n",
    "thread = client.beta.threads.create(\n",
    "  messages=[\n",
    "    {\n",
    "      \"role\": \"user\",\n",
    "      \"content\": prompt,\n",
    "      # Attach the new file to the message.\n",
    "      \"attachments\": [\n",
    "        { \"file_id\": message_file.id, \"tools\": [{\"type\": \"file_search\"}] }\n",
    "      ],\n",
    "    }\n",
    "  ]\n",
    ")\n",
    "\n",
    "# The thread now has a vector store with that file in its tool resources.\n",
    "print(thread.tool_resources.file_search)"
   ]
  },
  {
   "cell_type": "code",
   "execution_count": 6,
   "metadata": {},
   "outputs": [],
   "source": [
    "import json\n",
    "\n",
    "# Fetch messages from the thread\n",
    "messages = client.beta.threads.messages.list(thread_id=thread.id)\n",
    "\n",
    "# Extract content from messages\n",
    "for msg in messages:\n",
    "    role = msg.role\n",
    "    content = msg.content"
   ]
  },
  {
   "cell_type": "code",
   "execution_count": null,
   "metadata": {},
   "outputs": [
    {
     "name": "stdout",
     "output_type": "stream",
     "text": [
      "You are a quality control report extractor. Your task is to extract structured quality control details from the provided pdf and output a list of valid JSON objects, each conforming to the given schema.\n",
      "\n",
      "Leave the first few pages which contains summary report. Go to the next pages each page has 1 item and leave the pages which contains images.### **Required Fields and Their Meanings:**\n",
      "- **product_name** (string): The name of the product.\n",
      "- **RAG** (string): The RAG value (e.g., \"BLUE\", \"AMBER\", \"GREEN\").\n",
      "- **expected_qty** (string): The expected quantity.\n",
      "- **received_qty** (string): The received quantity.\n",
      "- **supplier_code** (string): The supplier code.\n",
      "- **supplier** (string): The supplier name.\n",
      "- **coo** (string): Country of Origin.\n",
      "- **received_date** (string): Date/time when received, in \"YYYY-MM-DD HH:MM:SS\" format.\n",
      "- **inspection_date** (string): Date/time of inspection, in \"YYYY-MM-DD HH:MM:SS\" format.\n",
      "- **print_date** (string): The print date, in \"YYYY-MM-DD\" format.\n",
      "- **iss_pallet_id** (string): ISS Pallet ID.\n",
      "- **supplier_pallet_id** (string): Supplier Pallet ID.\n",
      "- **customer_pallet_id** (string): Customer Pallet ID.\n",
      "- **variety** (string): The variety of the product.\n",
      "- **brand** (string): The brand name.\n",
      "- **organic** (string): \"YES\" or \"NO\" if the product is organic.\n",
      "- **does_pallet_meet_spec** (string): \"YES\" or \"NO\" if the pallet meets specifications.\n",
      "- **end_customer** (string): The end customer.\n",
      "- **harvest_date** (string): The date the product was harvested, in \"YYYY-MM-DD\" format.\n",
      "- **dp** (string): The DP code.\n",
      "- **total_defects** (integer): Total defects.\n",
      "- **size_calibre** (string): Size calibre.\n",
      "- **lot_number** (string): The lot number.\n",
      "- **inspector** (string): The inspector's name.\n",
      "- **estimated_yield** (string): Estimated yield.\n",
      "- **defects_tot** (integer): Total number of defects.\n",
      "- **defects_fruit_total** (integer): Total defects in the fruit.\n",
      "- **packs_with_defects** (integer): Number of packs with defects.\n",
      "- **waste_tot** (integer): Total waste.\n",
      "- **waste_fruit_total** (integer): Fruit waste.\n",
      "- **packs_with_waste** (integer): Number of packs with waste.\n",
      "- **minor_defects_tot** (integer): Total minor defects.\n",
      "- **minor_fruit_total** (integer): Minor defects in the fruit.\n",
      "- **major_defects_tot** (integer): Total major defects.\n",
      "- **major_fruit_total** (integer): Major defects in the fruit.\n",
      "- **packs_with_major** (integer): Number of packs with major defects.\n",
      "- **box_pack_weights** (string): The box pack weights.\n",
      "- **weight_readings** (string): Weight readings recorded.\n",
      "- **fruit_weights** (string): The fruit weights.\n",
      "- **qa_comments** (string): Any QA comments.\n",
      "- **packs_fruits_inspected_sample_size** (integer): The sample size for inspection.\n",
      "- **boxes_inspected** (integer): Number of boxes inspected.\n",
      "### **Extraction Rules:**\n",
      "- **Do NOT infer values** from unrelated text.\n",
      "- **If a field is not found,** set it to **null**.\n",
      "- **Extract exactly as they appear** in the text.\n",
      "- If you find empty space after any key, return `null` for that key.\n",
      "\n",
      "### **QC Report Page Text:**\n",
      "### **Example of Correct Output:**\n",
      "```json\n",
      "[\n",
      "    {\n",
      "        \"product_name\": \"Cucumbers 18 Loose\",\n",
      "        \"RAG\": \"BLUE\",\n",
      "        \"expected_qty\": \"150\",\n",
      "        \"received_qty\": \"150\",\n",
      "        \"supplier_code\": \"GNK€\",\n",
      "        \"supplier\": \"G.GIANNAKAKIS SA\",\n",
      "        \"coo\": \"Greece\",\n",
      "        \"received_date\": \"19/01/2025 08:15:09\",\n",
      "        \"inspection_date\": \"19/01/2025 12:32:00\",\n",
      "        \"print_date\": \"19/01/2025\",\n",
      "        \"iss_pallet_id\": \"6194840\",\n",
      "        \"supplier_pallet_id\": \"6194840\",\n",
      "        \"customer_pallet_id\": null,\n",
      "        \"variety\": \"Not Available\",\n",
      "        \"brand\": \"LSEEX\",\n",
      "        \"organic\": \"NO\",\n",
      "        \"does_pallet_meet_spec\": \"YES\",\n",
      "        \"end_customer\": \"Tesco\",\n",
      "        \"harvest_date\": \"19/01/2025\",\n",
      "        \"dp\": \"51\",\n",
      "        \"total_defects\": \"5.56%\",\n",
      "        \"size_calibre\": null,\n",
      "        \"lot_number\": \"676779\",\n",
      "        \"inspector\": \"Marzena.Buslowicz\",\n",
      "        \"estimated_yield\": \"100.00%\",\n",
      "        \"defects_tot\": \"5.56%\",\n",
      "        \"defects_fruit_total\": \"6.00\",\n",
      "        \"packs_with_defects\": \"4.63%\",\n",
      "        \"waste_tot\": \"0.00%\",\n",
      "        \"waste_fruit_total\": \"0.00\",\n",
      "        \"packs_with_waste\": \"0\",\n",
      "        \"minor_defects_tot\": \"4.63%\",\n",
      "        \"minor_fruit_total\": \"6.00\",\n",
      "        \"major_defects_tot\": \"0.00%\",\n",
      "        \"major_fruit_total\": \"0.00\",\n",
      "        \"packs_with_major\": \"0\",\n",
      "        \"box_pack_weights\": \"Avg 279g; Min 264g; Max 308g\",\n",
      "        \"weight_readings\": \"264 267 269 276 277 281 282 284 286 308\",\n",
      "        \"fruit_weights\": \"Avg 0.00g\",\n",
      "        \"qa_comments\": \"No major issues, flowering and untidy wrap present.\",\n",
      "        \"packs_fruits_inspected_sample_size\": \"108\",\n",
      "        \"boxes_inspected\": null,\n",
      "        \"c\": null\n",
      "    }\n",
      "]\n",
      "```\n",
      "\n"
     ]
    }
   ],
   "source": [
    "print(content[0].text.value)"
   ]
  },
  {
   "cell_type": "code",
   "execution_count": null,
   "metadata": {},
   "outputs": [],
   "source": []
  }
 ],
 "metadata": {
  "kernelspec": {
   "display_name": "venv",
   "language": "python",
   "name": "python3"
  },
  "language_info": {
   "codemirror_mode": {
    "name": "ipython",
    "version": 3
   },
   "file_extension": ".py",
   "mimetype": "text/x-python",
   "name": "python",
   "nbconvert_exporter": "python",
   "pygments_lexer": "ipython3",
   "version": "3.13.2"
  }
 },
 "nbformat": 4,
 "nbformat_minor": 2
}
