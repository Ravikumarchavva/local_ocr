{
 "cells": [
  {
   "cell_type": "markdown",
   "metadata": {},
   "source": [
    "# not working"
   ]
  },
  {
   "cell_type": "code",
   "execution_count": 1,
   "metadata": {},
   "outputs": [],
   "source": [
    "from openai import OpenAI\n",
    "from config.open_ai.dps_qc_report import get_qc_prompt\n",
    "\n",
    "prompt = get_qc_prompt()\n",
    "\n",
    "client = OpenAI()\n",
    "\n",
    "assistant = client.beta.assistants.create(\n",
    "  name=\"DPS QC Report Assistant\",\n",
    "  instructions=prompt,\n",
    "  model=\"gpt-4o\",\n",
    "  tools=[{\"type\": \"file_search\"}],\n",
    ")"
   ]
  },
  {
   "cell_type": "code",
   "execution_count": 2,
   "metadata": {},
   "outputs": [
    {
     "name": "stdout",
     "output_type": "stream",
     "text": [
      "completed\n",
      "FileCounts(cancelled=0, completed=1, failed=0, in_progress=0, total=1)\n"
     ]
    }
   ],
   "source": [
    "# Create a vector store caled \"DPS items\"\n",
    "vector_store = client.beta.vector_stores.create(name=\"DPS items\")\n",
    "\n",
    "from config.settings import DATA_DIR\n",
    "import os\n",
    "\n",
    "file_dir = DATA_DIR / 'qc_data' / 'qc_templates'\n",
    "files = os.listdir(file_dir)\n",
    "file_path = file_dir / files[-2]\n",
    "\n",
    "# Ready the files for upload to OpenAI\n",
    "file_paths = [file_path]\n",
    "file_streams = [open(path, \"rb\") for path in file_paths]\n",
    "\n",
    "# Use the upload and poll SDK helper to upload the files, add them to the vector store,\n",
    "# and poll the status of the file batch for completion.\n",
    "file_batch = client.beta.vector_stores.file_batches.upload_and_poll(\n",
    "  vector_store_id=vector_store.id, files=file_streams\n",
    ")\n",
    "\n",
    "# You can print the status and the file counts of the batch to see the result of this operation.\n",
    "print(file_batch.status)\n",
    "print(file_batch.file_counts)"
   ]
  },
  {
   "cell_type": "code",
   "execution_count": 3,
   "metadata": {},
   "outputs": [],
   "source": [
    "assistant = client.beta.assistants.update(\n",
    "  assistant_id=assistant.id,\n",
    "  tool_resources={\"file_search\": {\"vector_store_ids\": [vector_store.id]}},\n",
    ")"
   ]
  },
  {
   "cell_type": "code",
   "execution_count": 4,
   "metadata": {},
   "outputs": [
    {
     "name": "stdout",
     "output_type": "stream",
     "text": [
      "ToolResourcesFileSearch(vector_store_ids=['vs_67a9da1ba1d8819191bc7f49d3779889'])\n"
     ]
    }
   ],
   "source": [
    "# Upload the user provided file to OpenAI\n",
    "message_file = client.files.create(\n",
    "  file=open(file_path, \"rb\"), purpose=\"assistants\"\n",
    ")\n",
    "\n",
    "# Create a thread and attach the file to the message\n",
    "thread = client.beta.threads.create(\n",
    "  messages=[\n",
    "    {\n",
    "      \"role\": \"user\",\n",
    "      \"content\": prompt,\n",
    "      # Attach the new file to the message.\n",
    "      \"attachments\": [\n",
    "        { \"file_id\": message_file.id, \"tools\": [{\"type\": \"file_search\"}] }\n",
    "      ],\n",
    "    }\n",
    "  ]\n",
    ")\n",
    "\n",
    "# The thread now has a vector store with that file in its tool resources.\n",
    "print(thread.tool_resources.file_search)"
   ]
  },
  {
   "cell_type": "code",
   "execution_count": 15,
   "metadata": {},
   "outputs": [
    {
     "name": "stderr",
     "output_type": "stream",
     "text": [
      "5it [00:00, ?it/s]"
     ]
    },
    {
     "name": "stdout",
     "output_type": "stream",
     "text": [
      "('id', 'thread_driQfZoShy6piKeV37nHQyzZ')\n",
      "('created_at', 1739184667)\n",
      "('metadata', {})\n",
      "('object', 'thread')\n",
      "('tool_resources', ToolResources(code_interpreter=ToolResourcesCodeInterpreter(file_ids=[]), file_search=ToolResourcesFileSearch(vector_store_ids=['vs_67a9da1ba1d8819191bc7f49d3779889'])))\n"
     ]
    },
    {
     "name": "stderr",
     "output_type": "stream",
     "text": [
      "\n"
     ]
    }
   ],
   "source": [
    "import json\n",
    "\n",
    "# Fetch messages from the thread\n",
    "messages = client.beta.threads.retrieve(thread.id)\n",
    "\n",
    "from tqdm import tqdm\n",
    "# Extract content from messages\n",
    "for msg in tqdm(messages):\n",
    "    print(msg)"
   ]
  },
  {
   "cell_type": "code",
   "execution_count": 6,
   "metadata": {},
   "outputs": [
    {
     "name": "stdout",
     "output_type": "stream",
     "text": [
      "\n",
      "You are an advanced Quality Control Report Extractor. Your task is to extract structured quality control details from \n",
      "the provided PDF and return a **list of valid JSON objects**, each strictly conforming to the schema below.\n",
      "\n",
      "### **Instructions:**\n",
      "1. **Skip the first few pages** containing summary reports.\n",
      "2. **Each relevant page contains exactly one product's details.**\n",
      "3. **Ignore pages that contain only images** or do not have structured text data.\n",
      "4. **Extract only what is explicitly mentioned**; do not infer missing values.\n",
      "\n",
      "### **Schema for Each Product:**\n",
      "Each extracted product must contain the following fields exactly as they appear in the document:\n",
      "\n",
      "- `product_name` (string): Name of the product.\n",
      "- `RAG` (string): RAG value (e.g., \"BLUE\", \"AMBER\", \"GREEN\").\n",
      "- `expected_qty` (string): Expected quantity.\n",
      "- `received_qty` (string): Received quantity.\n",
      "- `supplier_code` (string): Supplier code.\n",
      "- `supplier` (string): Supplier name.\n",
      "- `coo` (string): Country of Origin.\n",
      "- `received_date` (string): Date/time when received, format: `\"YYYY-MM-DD HH:MM:SS\"`.\n",
      "- `inspection_date` (string): Date/time of inspection, format: `\"YYYY-MM-DD HH:MM:SS\"`.\n",
      "- `print_date` (string): Print date, format: `\"YYYY-MM-DD\"`.\n",
      "- `iss_pallet_id` (string): ISS Pallet ID.\n",
      "- `supplier_pallet_id` (string): Supplier Pallet ID.\n",
      "- `customer_pallet_id` (string): Customer Pallet ID.\n",
      "- `variety` (string): Variety of the product.\n",
      "- `brand` (string): Brand name.\n",
      "- `organic` (string): `\"YES\"` or `\"NO\"` indicating if the product is organic.\n",
      "- `does_pallet_meet_spec` (string): `\"YES\"` or `\"NO\"` indicating if the pallet meets specifications.\n",
      "- `end_customer` (string): End customer.\n",
      "- `harvest_date` (string): Date harvested, format: `\"YYYY-MM-DD\"`.\n",
      "- `dp` (string): DP code.\n",
      "- `total_defects` (integer): Total number of defects.\n",
      "- `size_calibre` (string): Size calibre.\n",
      "- `lot_number` (string): Lot number.\n",
      "- `inspector` (string): Inspector's name.\n",
      "- `estimated_yield` (string): Estimated yield.\n",
      "- `defects_tot` (integer): Total defects count.\n",
      "- `defects_fruit_total` (integer): Total defects in the fruit.\n",
      "- `packs_with_defects` (integer): Number of packs with defects.\n",
      "- `waste_tot` (integer): Total waste.\n",
      "- `waste_fruit_total` (integer): Fruit waste count.\n",
      "- `packs_with_waste` (integer): Number of packs with waste.\n",
      "- `minor_defects_tot` (integer): Total minor defects.\n",
      "- `minor_fruit_total` (integer): Minor defects in the fruit.\n",
      "- `major_defects_tot` (integer): Total major defects.\n",
      "- `major_fruit_total` (integer): Major defects in the fruit.\n",
      "- `packs_with_major` (integer): Number of packs with major defects.\n",
      "- `box_pack_weights` (string): Box pack weights.\n",
      "- `weight_readings` (string): Recorded weight readings.\n",
      "- `fruit_weights` (string): Fruit weights.\n",
      "- `qa_comments` (string): Any QA comments.\n",
      "- `packs_fruits_inspected_sample_size` (integer): Sample size for inspection.\n",
      "- `boxes_inspected` (integer): Number of boxes inspected.\n",
      "\n",
      "### **Extraction Rules:**\n",
      "- **DO NOT infer missing values.** If a field is absent or empty in the document, return `null`.\n",
      "- **Extract values exactly as they appear** without modification.\n",
      "- **Do not generate assumptions** about missing data.\n",
      "- **Ensure valid JSON output** where all extracted products are structured as a list of JSON objects.\n",
      "\n",
      "\n"
     ]
    }
   ],
   "source": [
    "print(content[0].text.value)"
   ]
  },
  {
   "cell_type": "code",
   "execution_count": null,
   "metadata": {},
   "outputs": [
    {
     "name": "stdout",
     "output_type": "stream",
     "text": [
      "ToolResources(code_interpreter=None, file_search=ToolResourcesFileSearch(vector_store_ids=['vs_67a9da148e0881919b9f9c23c272f610']))\n"
     ]
    }
   ],
   "source": [
    "# Check the status of the assistant's task\n",
    "assistant_status = client.beta.assistants.retrieve(assistant_id=assistant.id)\n",
    "print(assistant_status.tool_resources)"
   ]
  },
  {
   "cell_type": "code",
   "execution_count": 11,
   "metadata": {},
   "outputs": [
    {
     "data": {
      "text/plain": [
       "Message(id='msg_pcTOWFRSfJrTZbjWnePdcKT0', assistant_id=None, attachments=[Attachment(file_id='file-3LGXoaixV4Ci2Qqa7GvLFm', tools=[AttachmentToolAssistantToolsFileSearchTypeOnly(type='file_search')])], completed_at=None, content=[TextContentBlock(text=Text(annotations=[], value='\\nYou are an advanced Quality Control Report Extractor. Your task is to extract structured quality control details from \\nthe provided PDF and return a **list of valid JSON objects**, each strictly conforming to the schema below.\\n\\n### **Instructions:**\\n1. **Skip the first few pages** containing summary reports.\\n2. **Each relevant page contains exactly one product\\'s details.**\\n3. **Ignore pages that contain only images** or do not have structured text data.\\n4. **Extract only what is explicitly mentioned**; do not infer missing values.\\n\\n### **Schema for Each Product:**\\nEach extracted product must contain the following fields exactly as they appear in the document:\\n\\n- `product_name` (string): Name of the product.\\n- `RAG` (string): RAG value (e.g., \"BLUE\", \"AMBER\", \"GREEN\").\\n- `expected_qty` (string): Expected quantity.\\n- `received_qty` (string): Received quantity.\\n- `supplier_code` (string): Supplier code.\\n- `supplier` (string): Supplier name.\\n- `coo` (string): Country of Origin.\\n- `received_date` (string): Date/time when received, format: `\"YYYY-MM-DD HH:MM:SS\"`.\\n- `inspection_date` (string): Date/time of inspection, format: `\"YYYY-MM-DD HH:MM:SS\"`.\\n- `print_date` (string): Print date, format: `\"YYYY-MM-DD\"`.\\n- `iss_pallet_id` (string): ISS Pallet ID.\\n- `supplier_pallet_id` (string): Supplier Pallet ID.\\n- `customer_pallet_id` (string): Customer Pallet ID.\\n- `variety` (string): Variety of the product.\\n- `brand` (string): Brand name.\\n- `organic` (string): `\"YES\"` or `\"NO\"` indicating if the product is organic.\\n- `does_pallet_meet_spec` (string): `\"YES\"` or `\"NO\"` indicating if the pallet meets specifications.\\n- `end_customer` (string): End customer.\\n- `harvest_date` (string): Date harvested, format: `\"YYYY-MM-DD\"`.\\n- `dp` (string): DP code.\\n- `total_defects` (integer): Total number of defects.\\n- `size_calibre` (string): Size calibre.\\n- `lot_number` (string): Lot number.\\n- `inspector` (string): Inspector\\'s name.\\n- `estimated_yield` (string): Estimated yield.\\n- `defects_tot` (integer): Total defects count.\\n- `defects_fruit_total` (integer): Total defects in the fruit.\\n- `packs_with_defects` (integer): Number of packs with defects.\\n- `waste_tot` (integer): Total waste.\\n- `waste_fruit_total` (integer): Fruit waste count.\\n- `packs_with_waste` (integer): Number of packs with waste.\\n- `minor_defects_tot` (integer): Total minor defects.\\n- `minor_fruit_total` (integer): Minor defects in the fruit.\\n- `major_defects_tot` (integer): Total major defects.\\n- `major_fruit_total` (integer): Major defects in the fruit.\\n- `packs_with_major` (integer): Number of packs with major defects.\\n- `box_pack_weights` (string): Box pack weights.\\n- `weight_readings` (string): Recorded weight readings.\\n- `fruit_weights` (string): Fruit weights.\\n- `qa_comments` (string): Any QA comments.\\n- `packs_fruits_inspected_sample_size` (integer): Sample size for inspection.\\n- `boxes_inspected` (integer): Number of boxes inspected.\\n\\n### **Extraction Rules:**\\n- **DO NOT infer missing values.** If a field is absent or empty in the document, return `null`.\\n- **Extract values exactly as they appear** without modification.\\n- **Do not generate assumptions** about missing data.\\n- **Ensure valid JSON output** where all extracted products are structured as a list of JSON objects.\\n\\n'), type='text')], created_at=1739184668, incomplete_at=None, incomplete_details=None, metadata={}, object='thread.message', role='user', run_id=None, status=None, thread_id='thread_driQfZoShy6piKeV37nHQyzZ')"
      ]
     },
     "execution_count": 11,
     "metadata": {},
     "output_type": "execute_result"
    }
   ],
   "source": [
    "msg"
   ]
  },
  {
   "cell_type": "code",
   "execution_count": null,
   "metadata": {},
   "outputs": [],
   "source": []
  }
 ],
 "metadata": {
  "kernelspec": {
   "display_name": "gemini",
   "language": "python",
   "name": "python3"
  },
  "language_info": {
   "codemirror_mode": {
    "name": "ipython",
    "version": 3
   },
   "file_extension": ".py",
   "mimetype": "text/x-python",
   "name": "python",
   "nbconvert_exporter": "python",
   "pygments_lexer": "ipython3",
   "version": "3.11.10"
  }
 },
 "nbformat": 4,
 "nbformat_minor": 2
}
