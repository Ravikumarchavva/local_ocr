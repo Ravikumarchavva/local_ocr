{
 "cells": [
  {
   "cell_type": "code",
   "execution_count": 17,
   "metadata": {},
   "outputs": [],
   "source": [
    "from pathlib import Path\n",
    "ROOT_DIR = Path().resolve().parent\n",
    "\n",
    "# # Example Usage\n",
    "pdf_path = ROOT_DIR / 'data' / 'invoices' / \"ISS.pdf\""
   ]
  },
  {
   "cell_type": "code",
   "execution_count": 18,
   "metadata": {},
   "outputs": [
    {
     "name": "stdout",
     "output_type": "stream",
     "text": [
      "['Invoice To:\\nDirect Produce Supplies LTD\\n57-63 Church Street\\nWimbledon\\nSW19 5DQ\\nInvoice Date: 22/11/2023\\nInvoice No:22806\\nQuantity\\nRate (£)\\nNet Value (£)\\n178,082\\n0.090\\n10,641.96\\n105,084\\n0.090\\n2,856.15\\n36,065\\n0.090\\n1,762.74\\nNet Total (£):\\n15,260.85\\nVAT (£):\\n3,052.17\\nBank Details: HSBC UK Bank Plc\\nPayment Terms: 28 days from invoice date\\nGross Total (£):\\n18,313.02\\nSort Code: 40-03-21\\nAccount No: 2236 6789\\nContact\\n T 01795 523 310\\n E accounts@issproduce.co.uk\\nW www.issproduce.co.uk\\nINTEGRATED SERVICE SOLUTIONS\\nIntegrated Service Solutions Limited, C/O Fowler Welch, London Road, Teynham, Sittingbourne, ME9 9PR\\nService Description\\nISS SP - Picking: 12/11/2023 - 18/11/2023 Teynham\\nISS SP - Picking: 12/11/2023 - 18/11/2023 Linton\\nISS SP - Picking: 12/11/2023 - 18/11/2023 Sittingbourne\\nVAT Registration No: 184 6959 49            Company Registration No: 08332191\\n']\n"
     ]
    }
   ],
   "source": [
    "import fitz\n",
    "import json\n",
    "\n",
    "def extract_text_from_pdf(pdf_path):\n",
    "    doc = fitz.open(pdf_path)\n",
    "    text = [page.get_text(\"text\") for page in doc]  # Extract text page-wise\n",
    "    return text\n",
    "\n",
    "def convert_to_json(text_list):\n",
    "    structured_data = {\"pages\": [{\"page_number\": i+1, \"text\": text} for i, text in enumerate(text_list)]}\n",
    "    return json.dumps(structured_data, indent=4)\n",
    "from pathlib import Path\n",
    "ROOT_DIR = Path().resolve().parent\n",
    "\n",
    "# # Example Usage\n",
    "extracted_text = extract_text_from_pdf(pdf_path)\n",
    "print(extracted_text)\n",
    "# json_output = convert_to_json(extracted_text)\n",
    "\n",
    "# # Save to a JSON file\n",
    "# with open(\"output.json\", \"w\") as json_file:\n",
    "#     json_file.write(json_output)\n",
    "\n",
    "# print(json_output)  # Print JSON outpu"
   ]
  },
  {
   "cell_type": "code",
   "execution_count": 16,
   "metadata": {},
   "outputs": [
    {
     "data": {
      "text/plain": [
       "['Infia UK Limited\\nBeech Gate\\nPeterborough Road\\nWhittlesey\\nCambridgeshire\\nPE7 1PD\\nTel :  01733 202088\\nEmail : Accounts@thegshgroup.com\\nWebsite : www.thegshgroup.com\\nVAT Reg No:\\nINVOICE\\n700088278\\nPage  1\\nInvoice No\\n 1025991\\nBerry Farming Ltd\\nUnit 4\\nInvoice Date\\n30/08/2023\\nConqueror Court\\nSittingbourne\\nOrder No\\nMK69\\nKent\\nME10 5BH\\nAccount Ref\\nBERRY004\\n \\nQuantity\\nDescription\\nUnit Price\\nNet Amt\\nVAT %\\nVAT\\n288.00\\nK37F/40mm Punnets + \"100% PAPER\" Black Soak Pad x 950 \\npcs w2\\n45.39\\n13,072.32\\n20.00\\n2,614.46\\nDDT 82303766 - 13/06/23 x 192 ctns\\nDDT 82305223 - 02/08/23 x 96 ctns\\n**Please note our new sort code**\\nDeliver To : \\nTotal Net Amount\\n13,072.32\\n£\\nTriple Ash Nursery\\n75A Lockgate Road\\n£\\n0.00\\nCarriage Net\\nSidlesham Common\\nTotal VAT Amount\\n15,686.78\\n£\\nPO20 7QQ\\nPayment Terms : \\nInvoice Total\\nWest Sussex\\n£\\n2,614.46\\n30 Days\\nDespatch /Job No :   45323\\nJM Transport\\nHaulier :\\nBank Details : \\nBarclay\\'s Bank\\n9 High Street\\nColchester \\nCO1 1DD\\nSort Code :      *20-22-75*\\nAccount No :   50784834 \\nIban :               GB20 BARC 2022 7550 7848 34    \\nSwift :              BARCGB22\\nConsignment No : \\narrival on 07563 382459\\nPlease call 1/2 hour before\\nSpecial Instructions :\\n                 All goods remain the property of Infia UK Limited until paid in full and are subject\\n                    to our standard Terms and Conditions of Sale. Copies available upon request.\\n                                                    Registered in England No :3423930\\nPO# 12183\\nChecked 30/08/2023\\nEntered 30/08/2023\\nApproval attached\\n']"
      ]
     },
     "execution_count": 16,
     "metadata": {},
     "output_type": "execute_result"
    }
   ],
   "source": [
    "extracted_text"
   ]
  },
  {
   "cell_type": "code",
   "execution_count": null,
   "metadata": {},
   "outputs": [],
   "source": []
  }
 ],
 "metadata": {
  "kernelspec": {
   "display_name": "gemini",
   "language": "python",
   "name": "python3"
  },
  "language_info": {
   "codemirror_mode": {
    "name": "ipython",
    "version": 3
   },
   "file_extension": ".py",
   "mimetype": "text/x-python",
   "name": "python",
   "nbconvert_exporter": "python",
   "pygments_lexer": "ipython3",
   "version": "3.11.10"
  }
 },
 "nbformat": 4,
 "nbformat_minor": 2
}
