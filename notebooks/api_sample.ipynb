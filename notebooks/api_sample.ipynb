{
 "cells": [
  {
   "cell_type": "code",
   "execution_count": 1,
   "metadata": {},
   "outputs": [],
   "source": [
    "from config.settings import SRC_DIR\n",
    "import os\n",
    "os.chdir(SRC_DIR)"
   ]
  },
  {
   "cell_type": "code",
   "execution_count": null,
   "metadata": {},
   "outputs": [
    {
     "data": {
      "application/vnd.jupyter.widget-view+json": {
       "model_id": "a9b8ad7250084b9db6efc719780e645a",
       "version_major": 2,
       "version_minor": 0
      },
      "text/plain": [
       "Extracting pages:   0%|          | 0/5 [00:00<?, ?pages/s]"
      ]
     },
     "metadata": {},
     "output_type": "display_data"
    },
    {
     "data": {
      "application/vnd.jupyter.widget-view+json": {
       "model_id": "3842ab1343e1436ca3ae0a64b28704e9",
       "version_major": 2,
       "version_minor": 0
      },
      "text/plain": [
       "Filtering pages:   0%|          | 0/5 [00:00<?, ?pages/s]"
      ]
     },
     "metadata": {},
     "output_type": "display_data"
    },
    {
     "name": "stdout",
     "output_type": "stream",
     "text": [
      "\n",
      "--------Page: 2-----------\n",
      "Intake Pallet QC Inspection Report\n",
      "Customer DPS PO 177692 / ISS PO 221421\n",
      "Supplier Code : SUEXP€\n",
      "Supplier : Surexport UK Limited\n",
      "COO : Portugal\n",
      "Vehicle No : R-4273-BDR Received : 20/01/2025 11:06:15\n",
      "Vessel : PRIMAFRIO Inspection Date : 20/01/2025 11:29:13 Print date : 20/01/2025\n",
      "Blackberry 20x150g Punnet\n",
      "ISS Pallet ID : 8407532 Freshness Technology : N/A\n",
      "Supplier Pallet ID : 50034008579 Punnet / Pad Type : INFIA K37 40 / BLACK ABSORBENT PAD\n",
      "Customer Pallet ID : 6197127 Outer : GREEN CARTON\n",
      "Variety : Sweet Royalla Brand : CORE\n",
      "Grower : 966321/ Organic? : NO Does Pallet Meet Spec? : YES\n",
      "GGN : 4049929966321/ PLU? : / 0.00%\n",
      "Expected Qty 120\n",
      "RED\n",
      "Orchard/Farm : N./a End Customer : Tesco\n",
      "Received Qty 120\n",
      "Harvest Date : 18/01/2025 DP : 7\n",
      "Total Defects : 40.09%\n",
      "Size/Calibre : Packhouse :\n",
      "Estimated Yield : 80%\n",
      "Lot Number : 552396 Inspector : Ewa.Jawornicka\n",
      "Waste : Mould: 11.19%\n",
      "Minor : Bleeding: 14.92%\n",
      "Minor : Maroon Druplets: 5.59%\n",
      "Major : Bleeding: 8.39%\n",
      "Defects Tot : 0.00% Defects Fruit Total : 0 Packs With Defects : 0.00%\n",
      "Waste Tot : 11.19% Waste Fruit Total : 60 Packs With Waste : 300%\n",
      "Minor Defects Tot : 20.51% Minor Fruit Total : 110\n",
      "Major Defects Tot : 8.39% Major Fruit Total : 45 Packs With Major : 0%\n",
      "Box / Pack Weights : Avg 161g ; Min 157g; Max 166g Underweight 0%\n",
      "Weight Readings : 157 158 158 159 159 159 160 160 160 160 161 161 162 162 162 163 163 164 164\n",
      "166\n",
      "Fruit Weights : Avg 6g 6\n",
      "Sugar Brix : Avg 11.92%; Min 10.30%; Max 13.80%\n",
      "Brix Readings : 10.3 10.5 11.3 11.5 11.7 12.1 12.4 12.6 13.0 13.8\n",
      "Size : Avg 20.00; Min 15; Max 25 Undersize 0.00%\n",
      "Size Readings : 15 25\n",
      "Maturity % : ST1: 0% ST2: 0% ST3: 0% ST4: 0% ST5: 0%\n",
      "Pressures : Avg 0.00 ; Min 0.00 ; Max 0.00\n",
      "Other Issues :\n",
      "QA Comments : Reject due to mould.\n",
      "Packs/Fruits Inspected/Sample Size : 20\n",
      "Boxes Inspected : 1\n",
      "C:\\Users\\EWA~2.JAW\\AppData\\Local\\Temp\\6\\md244A.tmp Page 2 of 5\n",
      "\n",
      "--------Page: 3-----------\n",
      "Intake Pallet QC Inspection Report\n",
      "Customer DPS PO 177692 / ISS PO 221421\n",
      "Supplier Code : SUEXP€\n",
      "Supplier : Surexport UK Limited\n",
      "COO : Portugal\n",
      "Vehicle No : R-4273-BDR Received : 20/01/2025 11:06:15\n",
      "Vessel : PRIMAFRIO Inspection Date : 20/01/2025 11:29:13 Print date : 20/01/2025\n",
      "Blackberry 20x150g Punnet\n",
      "ISS Pallet ID : 8407533 Freshness Technology : N/A\n",
      "Supplier Pallet ID : 50034012620 Punnet / Pad Type : INFIA K37 40 / BLACK ABSORBENT PAD\n",
      "Customer Pallet ID : 6197128 Outer : GREEN CARTON\n",
      "Variety : Sweet Royalla Brand : CORE\n",
      "Grower : 716139/ Organic? : NO Does Pallet Meet Spec? : YES\n",
      "GGN : / PLU? : / 0.00%\n",
      "Expected Qty 117\n",
      "AMBER\n",
      "Orchard/Farm : N./a End Customer : Tesco\n",
      "Received Qty 117\n",
      "Harvest Date : 18/01/2025 DP : 7\n",
      "Total Defects : 15.61%\n",
      "Size/Calibre : Packhouse :\n",
      "Estimated Yield : 92%\n",
      "Lot Number : 552397 Inspector : Ewa.Jawornicka\n",
      "Waste : Mould: 2.82%\n",
      "Minor : Bleeding: 3.76%\n",
      "Minor : Maroon Druplets: 3.76%\n",
      "Major : Bleeding: 5.27%\n",
      "Defects Tot : 0.00% Defects Fruit Total : 0 Packs With Defects : 0.00%\n",
      "Waste Tot : 2.82% Waste Fruit Total : 15 Packs With Waste : 75%\n",
      "Minor Defects Tot : 7.52% Minor Fruit Total : 40\n",
      "Major Defects Tot : 5.27% Major Fruit Total : 28 Packs With Major : 0%\n",
      "Box / Pack Weights : Avg 160g ; Min 156g; Max 163g Underweight 0%\n",
      "Weight Readings : 156 156 157 157 158 158 159 159 159 160 160 160 160 160 161 161 162 162 162\n",
      "163\n",
      "Fruit Weights : Avg 6g 6\n",
      "Sugar Brix : Avg 9.73%; Min 8.60%; Max 12.20%\n",
      "Brix Readings : 8.6 8.9 8.9 9.0 9.2 9.3 9.9 9.9 11.4 12.2\n",
      "Size : Avg 20.00; Min 15; Max 25 Undersize 0.00%\n",
      "Size Readings : 15 25\n",
      "Maturity % : ST1: 0% ST2: 0% ST3: 0% ST4: 0% ST5: 0%\n",
      "Pressures : Avg 0.00 ; Min 0.00 ; Max 0.00\n",
      "Other Issues :\n",
      "QA Comments : Amber due to mould.\n",
      "Packs/Fruits Inspected/Sample Size : 20\n",
      "Boxes Inspected : 1\n",
      "C:\\Users\\EWA~2.JAW\\AppData\\Local\\Temp\\6\\md244A.tmp Page 3 of 5\n"
     ]
    }
   ],
   "source": [
    "from document_processing_system.components.data_ingestion import DataIngestion\n",
    "from document_processing_system.components.data_extraction import DataExtraction\n",
    "\n",
    "data_ingester = DataIngestion('qc_data/qc_templates/PO 177692 - PO 221421.pdf')\n",
    "data_extracter = DataExtraction(data_ingester)\n",
    "pages, tables, images = data_extracter.extract_data()\n",
    "all_items = data_extracter.filter_pages(pages)\n",
    "data_extracter.display_data(all_items)"
   ]
  },
  {
   "cell_type": "code",
   "execution_count": 3,
   "metadata": {},
   "outputs": [
    {
     "name": "stdout",
     "output_type": "stream",
     "text": [
      "Loading model and tokenizer...\n"
     ]
    },
    {
     "data": {
      "application/vnd.jupyter.widget-view+json": {
       "model_id": "50bad96cc6e84e6c85baacc312fbe253",
       "version_major": 2,
       "version_minor": 0
      },
      "text/plain": [
       "Loading checkpoint shards:   0%|          | 0/4 [00:00<?, ?it/s]"
      ]
     },
     "metadata": {},
     "output_type": "display_data"
    },
    {
     "name": "stdout",
     "output_type": "stream",
     "text": [
      "Model loaded successfully!\n"
     ]
    },
    {
     "data": {
      "application/vnd.jupyter.widget-view+json": {
       "model_id": "2c718a81f4b646a184fa7aa155a703da",
       "version_major": 2,
       "version_minor": 0
      },
      "text/plain": [
       "Processing Items:   0%|          | 0/2 [00:00<?, ?item/s]"
      ]
     },
     "metadata": {},
     "output_type": "display_data"
    },
    {
     "name": "stderr",
     "output_type": "stream",
     "text": [
      "Setting `pad_token_id` to `eos_token_id`:151643 for open-end generation.\n",
      "Setting `pad_token_id` to `eos_token_id`:151643 for open-end generation.\n"
     ]
    }
   ],
   "source": [
    "from document_processing_system.components.model_inference import ModelInference\n",
    "model = ModelInference()\n",
    "response = model.process_items(all_items)"
   ]
  },
  {
   "cell_type": "code",
   "execution_count": null,
   "metadata": {},
   "outputs": [
    {
     "data": {
      "text/html": [
       "<div>\n",
       "<style scoped>\n",
       "    .dataframe tbody tr th:only-of-type {\n",
       "        vertical-align: middle;\n",
       "    }\n",
       "\n",
       "    .dataframe tbody tr th {\n",
       "        vertical-align: top;\n",
       "    }\n",
       "\n",
       "    .dataframe thead th {\n",
       "        text-align: right;\n",
       "    }\n",
       "</style>\n",
       "<table border=\"1\" class=\"dataframe\">\n",
       "  <thead>\n",
       "    <tr style=\"text-align: right;\">\n",
       "      <th></th>\n",
       "      <th>product_name</th>\n",
       "      <th>RAG</th>\n",
       "      <th>expected_qty</th>\n",
       "      <th>received_qty</th>\n",
       "      <th>supplier_code</th>\n",
       "      <th>supplier</th>\n",
       "      <th>coo</th>\n",
       "      <th>received_date</th>\n",
       "      <th>inspection_date</th>\n",
       "      <th>print_date</th>\n",
       "      <th>...</th>\n",
       "      <th>minor_fruit_total</th>\n",
       "      <th>major_defects_tot</th>\n",
       "      <th>major_fruit_total</th>\n",
       "      <th>packs_with_major</th>\n",
       "      <th>box_pack_weights</th>\n",
       "      <th>weight_readings</th>\n",
       "      <th>fruit_weights</th>\n",
       "      <th>qa_comments</th>\n",
       "      <th>packs_fruits_inspected_sample_size</th>\n",
       "      <th>boxes_inspected</th>\n",
       "    </tr>\n",
       "  </thead>\n",
       "  <tbody>\n",
       "    <tr>\n",
       "      <th>0</th>\n",
       "      <td>Blackberry 20x150g Punnet</td>\n",
       "      <td>RED</td>\n",
       "      <td>120</td>\n",
       "      <td>120</td>\n",
       "      <td>SUEXP€</td>\n",
       "      <td>Surexport UK Limited</td>\n",
       "      <td>Portugal</td>\n",
       "      <td>2025-01-20 11:06:15</td>\n",
       "      <td>2025-01-20 11:29:13</td>\n",
       "      <td>2025-01-20</td>\n",
       "      <td>...</td>\n",
       "      <td>110</td>\n",
       "      <td>8.39%</td>\n",
       "      <td>45</td>\n",
       "      <td>0%</td>\n",
       "      <td>Avg 161g ; Min 157g; Max 166g Underweight 0%</td>\n",
       "      <td>157 158 158 159 159 159 160 160 160 160 161 16...</td>\n",
       "      <td>Avg 6g 6</td>\n",
       "      <td>Reject due to mould.</td>\n",
       "      <td>20</td>\n",
       "      <td>1</td>\n",
       "    </tr>\n",
       "    <tr>\n",
       "      <th>1</th>\n",
       "      <td>Blackberry 20x150g Punnet</td>\n",
       "      <td>AMBER</td>\n",
       "      <td>117</td>\n",
       "      <td>117</td>\n",
       "      <td>SUEXP€</td>\n",
       "      <td>Surexport UK Limited</td>\n",
       "      <td>Portugal</td>\n",
       "      <td>2025-01-20 11:06:15</td>\n",
       "      <td>2025-01-20 11:29:13</td>\n",
       "      <td>2025-01-20</td>\n",
       "      <td>...</td>\n",
       "      <td>40</td>\n",
       "      <td>5.27%</td>\n",
       "      <td>28</td>\n",
       "      <td>0</td>\n",
       "      <td>Avg 160g ; Min 156g; Max 163g Underweight 0%</td>\n",
       "      <td>156 156 157 157 158 158 159 159 159 160 160 16...</td>\n",
       "      <td>Avg 6g 6</td>\n",
       "      <td>Amber due to mould.</td>\n",
       "      <td>20</td>\n",
       "      <td>1</td>\n",
       "    </tr>\n",
       "  </tbody>\n",
       "</table>\n",
       "<p>2 rows × 41 columns</p>\n",
       "</div>"
      ],
      "text/plain": [
       "                product_name    RAG expected_qty received_qty supplier_code  \\\n",
       "0  Blackberry 20x150g Punnet    RED          120          120        SUEXP€   \n",
       "1  Blackberry 20x150g Punnet  AMBER          117          117        SUEXP€   \n",
       "\n",
       "               supplier       coo        received_date      inspection_date  \\\n",
       "0  Surexport UK Limited  Portugal  2025-01-20 11:06:15  2025-01-20 11:29:13   \n",
       "1  Surexport UK Limited  Portugal  2025-01-20 11:06:15  2025-01-20 11:29:13   \n",
       "\n",
       "   print_date  ...  minor_fruit_total  major_defects_tot  major_fruit_total  \\\n",
       "0  2025-01-20  ...                110              8.39%                 45   \n",
       "1  2025-01-20  ...                 40              5.27%                 28   \n",
       "\n",
       "  packs_with_major                              box_pack_weights  \\\n",
       "0               0%  Avg 161g ; Min 157g; Max 166g Underweight 0%   \n",
       "1                0  Avg 160g ; Min 156g; Max 163g Underweight 0%   \n",
       "\n",
       "                                     weight_readings fruit_weights  \\\n",
       "0  157 158 158 159 159 159 160 160 160 160 161 16...      Avg 6g 6   \n",
       "1  156 156 157 157 158 158 159 159 159 160 160 16...      Avg 6g 6   \n",
       "\n",
       "            qa_comments packs_fruits_inspected_sample_size boxes_inspected  \n",
       "0  Reject due to mould.                                 20               1  \n",
       "1   Amber due to mould.                                 20               1  \n",
       "\n",
       "[2 rows x 41 columns]"
      ]
     },
     "execution_count": 15,
     "metadata": {},
     "output_type": "execute_result"
    }
   ],
   "source": [
    "import pandas as pd\n",
    "flat_data = [item for sublist in response for item in sublist]\n",
    "\n",
    "data = pd.DataFrame(flat_data)\n",
    "data"
   ]
  }
 ],
 "metadata": {
  "kernelspec": {
   "display_name": "venv",
   "language": "python",
   "name": "python3"
  },
  "language_info": {
   "codemirror_mode": {
    "name": "ipython",
    "version": 3
   },
   "file_extension": ".py",
   "mimetype": "text/x-python",
   "name": "python",
   "nbconvert_exporter": "python",
   "pygments_lexer": "ipython3",
   "version": "3.13.2"
  }
 },
 "nbformat": 4,
 "nbformat_minor": 2
}
