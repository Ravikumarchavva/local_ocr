{
 "cells": [
  {
   "cell_type": "code",
   "execution_count": 1,
   "metadata": {},
   "outputs": [],
   "source": [
    "from config.settings import SRC_DIR\n",
    "import os\n",
    "os.chdir(SRC_DIR)"
   ]
  },
  {
   "cell_type": "code",
   "execution_count": 2,
   "metadata": {},
   "outputs": [
    {
     "data": {
      "application/vnd.jupyter.widget-view+json": {
       "model_id": "93628f362bc24e92838266d3ca607d4a",
       "version_major": 2,
       "version_minor": 0
      },
      "text/plain": [
       "Extracting pages:   0%|          | 0/4 [00:00<?, ?pages/s]"
      ]
     },
     "metadata": {},
     "output_type": "display_data"
    },
    {
     "data": {
      "application/vnd.jupyter.widget-view+json": {
       "model_id": "fa2e7331db654ab189b1d76de5e4d19e",
       "version_major": 2,
       "version_minor": 0
      },
      "text/plain": [
       "Filtering pages:   0%|          | 0/4 [00:00<?, ?pages/s]"
      ]
     },
     "metadata": {},
     "output_type": "display_data"
    },
    {
     "name": "stdout",
     "output_type": "stream",
     "text": [
      "\n",
      "--------Page: 2-----------\n",
      "Intake Pallet QC Inspection Report\n",
      "Customer DPS PO 177513 / ISS PO 221419\n",
      "Supplier Code : FRUBO€\n",
      "Supplier : Frutas Borja s.l.\n",
      "COO : Spain\n",
      "Vehicle No : PRIMAFRIO Received : 20/01/2025 10:29:03\n",
      "Vessel : R4273BDR Inspection Date : 20/01/2025 11:26:47 Print date : 20/01/2025\n",
      "Strawberries 20x227g Punnet\n",
      "ISS Pallet ID : 8407531 Freshness Technology : N/A\n",
      "Supplier Pallet ID : 2124898 Punnet / Pad Type : INFIA K37 60 / N/A\n",
      "Customer Pallet ID : 6197104 Outer : GREEN CARTON\n",
      "Variety : Limvalnera Brand : CORE\n",
      "Grower : 950802/ Organic? : NO Does Pallet Meet Spec? : YES\n",
      "GGN : 4049928950802/ PLU? : / 0.00%\n",
      "Expected Qty 85\n",
      "AMBER\n",
      "Orchard/Farm : n/a End Customer : Tesco\n",
      "Received Qty 85\n",
      "Harvest Date : 18/01/2025 DP : 7\n",
      "Total Defects : 9.93%\n",
      "Size/Calibre : Packhouse :\n",
      "Estimated Yield : 95%\n",
      "Lot Number : 552395 Inspector : Adriana.Popa\n",
      "Minor : Dry Bruising: 4.51%\n",
      "Major : Wet Bruise: 5.41%\n",
      "Defects Tot : 0.00% Defects Fruit Total : 0 Packs With Defects : 0.00%\n",
      "Waste Tot : 0.00% Waste Fruit Total : 0 Packs With Waste : 0%\n",
      "Minor Defects Tot : 4.51% Minor Fruit Total : 5\n",
      "Major Defects Tot : 5.41% Major Fruit Total : 6 Packs With Major : 0%\n",
      "Box / Pack Weights : Avg 255g ; Min 237g; Max 280g Underweight 0%\n",
      "Weight Readings : 237 240 242 242 245 249 250 251 253 254 255 256 257 259 262 263 264 268 271\n",
      "280\n",
      "Fruit Weights : Avg 23g 23\n",
      "Sugar Brix : Avg 10.15%; Min 0.60%; Max 13.10%\n",
      "Brix Readings : 0.6 7.7 8.5 9.8 9.9 10.0 10.0 10.1 10.1 10.2 10.3 10.3 11.0 11.1 11.3 12.0 12.2 12.3 12.4 13.1\n",
      "Size : Avg 34.00; Min 27; Max 41 Undersize 0.00%\n",
      "Size Readings : 27 41\n",
      "Maturity % : ST1: 0% ST2: 0% ST3: 0% ST4: 0% ST5: 0%\n",
      "Pressures : Avg 0.00 ; Min 0.00 ; Max 0.00\n",
      "Other Issues :\n",
      "QA Comments : Amber due to wet bruises.\n",
      "Packs/Fruits Inspected/Sample Size : 10\n",
      "Boxes Inspected : 1\n",
      "C:\\Users\\ADRIAN~2.POP\\AppData\\Local\\Temp\\9\\md65B2.tmp Page 2 of 4\n"
     ]
    }
   ],
   "source": [
    "from document_processing_system.components.data_ingestion import DataIngestion\n",
    "from document_processing_system.components.data_extraction import DataExtraction\n",
    "\n",
    "pdf = 'PO 177513-221419  Summary and details reports'\n",
    "\n",
    "data_ingester = DataIngestion(f'qc_data/qc_templates/{pdf}.pdf')\n",
    "data_extracter = DataExtraction(data_ingester)\n",
    "pages, tables, images = data_extracter.extract_data()\n",
    "all_items = data_extracter.filter_pages(pages)\n",
    "data_extracter.display_data(all_items)"
   ]
  },
  {
   "cell_type": "code",
   "execution_count": 3,
   "metadata": {},
   "outputs": [
    {
     "name": "stderr",
     "output_type": "stream",
     "text": [
      "INFO:root:Loading model and tokenizer...\n",
      "INFO:accelerate.utils.modeling:We will use 90% of the memory on device 0 for storing the model, and 10% for the buffer to avoid OOM. You can set `max_memory` in to a higher value to use more memory (at your own risk).\n"
     ]
    },
    {
     "data": {
      "application/vnd.jupyter.widget-view+json": {
       "model_id": "54f39e9c723e4cb09228f86e698dabcc",
       "version_major": 2,
       "version_minor": 0
      },
      "text/plain": [
       "Loading checkpoint shards:   0%|          | 0/8 [00:00<?, ?it/s]"
      ]
     },
     "metadata": {},
     "output_type": "display_data"
    },
    {
     "name": "stderr",
     "output_type": "stream",
     "text": [
      "Device set to use cuda:0\n",
      "INFO:root:Model loaded successfully!\n"
     ]
    }
   ],
   "source": [
    "import os\n",
    "from document_processing_system.components.model_inference import ModelInference\n",
    "from config.settings import DATA_DIR\n",
    "\n",
    "# Define the PDF folder path\n",
    "pdf_folder = os.path.join(DATA_DIR, 'qc_data', 'qc_reports_output', pdf, 'qc_reports_14b', 'troubleshoot')\n",
    "\n",
    "# Ensure the directory exists\n",
    "os.makedirs(pdf_folder, exist_ok=True)\n",
    "\n",
    "# Initialize the model\n",
    "model = ModelInference(model_name=\"Qwen/Qwen2.5-14B\")"
   ]
  },
  {
   "cell_type": "code",
   "execution_count": 7,
   "metadata": {},
   "outputs": [
    {
     "name": "stdout",
     "output_type": "stream",
     "text": [
      "\n",
      "--------Page: 2-----------\n",
      "Intake Pallet QC Inspection Report\n",
      "Customer DPS PO 177513 / ISS PO 221419\n",
      "Supplier Code : FRUBO€\n",
      "Supplier : Frutas Borja s.l.\n",
      "COO : Spain\n",
      "Vehicle No : PRIMAFRIO Received : 20/01/2025 10:29:03\n",
      "Vessel : R4273BDR Inspection Date : 20/01/2025 11:26:47 Print date : 20/01/2025\n",
      "Strawberries 20x227g Punnet\n",
      "ISS Pallet ID : 8407531 Freshness Technology : N/A\n",
      "Supplier Pallet ID : 2124898 Punnet / Pad Type : INFIA K37 60 / N/A\n",
      "Customer Pallet ID : 6197104 Outer : GREEN CARTON\n",
      "Variety : Limvalnera Brand : CORE\n",
      "Grower : 950802/ Organic? : NO Does Pallet Meet Spec? : YES\n",
      "GGN : 4049928950802/ PLU? : / 0.00%\n",
      "Expected Qty 85\n",
      "AMBER\n",
      "Orchard/Farm : n/a End Customer : Tesco\n",
      "Received Qty 85\n",
      "Harvest Date : 18/01/2025 DP : 7\n",
      "Total Defects : 9.93%\n",
      "Size/Calibre : Packhouse :\n",
      "Estimated Yield : 95%\n",
      "Lot Number : 552395 Inspector : Adriana.Popa\n",
      "Minor : Dry Bruising: 4.51%\n",
      "Major : Wet Bruise: 5.41%\n",
      "Defects Tot : 0.00% Defects Fruit Total : 0 Packs With Defects : 0.00%\n",
      "Waste Tot : 0.00% Waste Fruit Total : 0 Packs With Waste : 0%\n",
      "Minor Defects Tot : 4.51% Minor Fruit Total : 5\n",
      "Major Defects Tot : 5.41% Major Fruit Total : 6 Packs With Major : 0%\n",
      "Box / Pack Weights : Avg 255g ; Min 237g; Max 280g Underweight 0%\n",
      "Weight Readings : 237 240 242 242 245 249 250 251 253 254 255 256 257 259 262 263 264 268 271\n",
      "280\n",
      "Fruit Weights : Avg 23g 23\n",
      "Sugar Brix : Avg 10.15%; Min 0.60%; Max 13.10%\n",
      "Brix Readings : 0.6 7.7 8.5 9.8 9.9 10.0 10.0 10.1 10.1 10.2 10.3 10.3 11.0 11.1 11.3 12.0 12.2 12.3 12.4 13.1\n",
      "Size : Avg 34.00; Min 27; Max 41 Undersize 0.00%\n",
      "Size Readings : 27 41\n",
      "Maturity % : ST1: 0% ST2: 0% ST3: 0% ST4: 0% ST5: 0%\n",
      "Pressures : Avg 0.00 ; Min 0.00 ; Max 0.00\n",
      "Other Issues :\n",
      "QA Comments : Amber due to wet bruises.\n",
      "Packs/Fruits Inspected/Sample Size : 10\n",
      "Boxes Inspected : 1\n",
      "C:\\Users\\ADRIAN~2.POP\\AppData\\Local\\Temp\\9\\md65B2.tmp Page 2 of 4\n"
     ]
    }
   ],
   "source": [
    "print(all_items[0])"
   ]
  },
  {
   "cell_type": "code",
   "execution_count": 5,
   "metadata": {},
   "outputs": [
    {
     "data": {
      "application/vnd.jupyter.widget-view+json": {
       "model_id": "6d1fc4127989447da44c5a2658f62246",
       "version_major": 2,
       "version_minor": 0
      },
      "text/plain": [
       "Processing Items:   0%|          | 0/1 [00:00<?, ?item/s]"
      ]
     },
     "metadata": {},
     "output_type": "display_data"
    },
    {
     "name": "stderr",
     "output_type": "stream",
     "text": [
      "INFO:root:Saved: C:\\Users\\ai.users\\local_ocr\\data\\qc_data\\qc_reports_output\\PO 177513-221419  Summary and details reports\\qc_reports_14b\\troubleshoot\\qc_report_item_0.json\n"
     ]
    }
   ],
   "source": [
    "response = model.process_items(all_items, output_folder=pdf_folder)"
   ]
  },
  {
   "cell_type": "code",
   "execution_count": null,
   "metadata": {},
   "outputs": [],
   "source": []
  }
 ],
 "metadata": {
  "kernelspec": {
   "display_name": "venv",
   "language": "python",
   "name": "python3"
  },
  "language_info": {
   "codemirror_mode": {
    "name": "ipython",
    "version": 3
   },
   "file_extension": ".py",
   "mimetype": "text/x-python",
   "name": "python",
   "nbconvert_exporter": "python",
   "pygments_lexer": "ipython3",
   "version": "3.13.2"
  }
 },
 "nbformat": 4,
 "nbformat_minor": 2
}
