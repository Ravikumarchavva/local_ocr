{
 "cells": [
  {
   "cell_type": "code",
   "execution_count": 1,
   "metadata": {},
   "outputs": [],
   "source": [
    "from config.settings import SRC_DIR\n",
    "import os\n",
    "os.chdir(SRC_DIR)"
   ]
  },
  {
   "cell_type": "code",
   "execution_count": 4,
   "metadata": {},
   "outputs": [
    {
     "ename": "TypeError",
     "evalue": "'DataIngestion' object is not callable",
     "output_type": "error",
     "traceback": [
      "\u001b[1;31m---------------------------------------------------------------------------\u001b[0m",
      "\u001b[1;31mTypeError\u001b[0m                                 Traceback (most recent call last)",
      "Cell \u001b[1;32mIn[4], line 1\u001b[0m\n\u001b[1;32m----> 1\u001b[0m \u001b[43mdata_ingestor\u001b[49m\u001b[43m(\u001b[49m\u001b[38;5;124;43m'\u001b[39;49m\u001b[38;5;124;43mqc_data/qc_templates/PO166939-204865.pdf\u001b[39;49m\u001b[38;5;124;43m'\u001b[39;49m\u001b[43m)\u001b[49m\n",
      "\u001b[1;31mTypeError\u001b[0m: 'DataIngestion' object is not callable"
     ]
    }
   ],
   "source": [
    "data_ingestor('qc_data/qc_templates/PO166939-204865.pdf')"
   ]
  },
  {
   "cell_type": "code",
   "execution_count": null,
   "metadata": {},
   "outputs": [
    {
     "data": {
      "application/vnd.jupyter.widget-view+json": {
       "model_id": "f2e48de6f53841689e7c8e48647c4e20",
       "version_major": 2,
       "version_minor": 0
      },
      "text/plain": [
       "Extracting pages:   0%|          | 0/8 [00:00<?, ?pages/s]"
      ]
     },
     "metadata": {},
     "output_type": "display_data"
    },
    {
     "data": {
      "application/vnd.jupyter.widget-view+json": {
       "model_id": "b4e322b71ad14329b2be208addfbecb5",
       "version_major": 2,
       "version_minor": 0
      },
      "text/plain": [
       "Filtering pages:   0%|          | 0/8 [00:00<?, ?pages/s]"
      ]
     },
     "metadata": {},
     "output_type": "display_data"
    },
    {
     "name": "stdout",
     "output_type": "stream",
     "text": [
      "\n",
      "--------Page: 2-----------\n",
      "Intake Pallet QC Inspection Report\n",
      "Customer DPS9 PO 177768 / ISS PO 221234\n",
      "Supplier Code : INTR9€\n",
      "Supplier : INTERTERRA agromedina\n",
      "COO : Spain\n",
      "Vehicle No : 3174MBG / R9664BDB Received : 20/01/2025 08:12:44\n",
      "Vessel : GRUPO TRANSONUBA Inspection Date : 20/01/2025 09:42:17 Print date : 20/01/2025\n",
      "Persimon 8x3 Punnet\n",
      "ISS Pallet ID : 8396834 Freshness Technology :\n",
      "Supplier Pallet ID : 6187906 Punnet / Pad Type : /\n",
      "Customer Pallet ID : 6187906 Outer :\n",
      "Variety : Triumph Brand : STND\n",
      "Grower : 761798/ Organic? : NO Does Pallet Meet Spec? : YES\n",
      "GGN : / PLU? : / 0.00%\n",
      "Expected Qty 180\n",
      "BLUE\n",
      "Orchard/Farm : End Customer : Ocado\n",
      "Received Qty 180\n",
      "Harvest Date : 09/11/2024 DP : 6\n",
      "Total Defects : 5.56%\n",
      "Size/Calibre : Packhouse :\n",
      "Estimated Yield : 100%\n",
      "Lot Number : 551836 Inspector : Bobby.Murphy\n",
      "Minor : Poor Colour: 2.78%\n",
      "Minor : Scarring: 2.78%\n",
      "Defects Tot : 0.00% Defects Fruit Total : 0 Packs With Defects : 0.00%\n",
      "Waste Tot : 0.00% Waste Fruit Total : 0 Packs With Waste : 0%\n",
      "Minor Defects Tot : 5.56% Minor Fruit Total : 4\n",
      "Major Defects Tot : 0.00% Major Fruit Total : 0 Packs With Major : 0%\n",
      "Box / Pack Weights : Avg 376g ; Min 365g; Max 401g Underweight 0%\n",
      "Weight Readings : 365 365 369 370 371 375 377 381 382 401\n",
      "Fruit Weights : Avg 0g\n",
      "Sugar Brix : Avg 17.60%; Min 16.30%; Max 18.90%\n",
      "Brix Readings : 16.3 16.5 16.9 17.4 17.5 17.5 18.2 18.4 18.4 18.9\n",
      "Size : Avg 0.00; Min 0; Max 0 Undersize 0.00%\n",
      "Size Readings :\n",
      "Maturity % : ST1: 0% ST2: 0% ST3: 0% ST4: 0% ST5: 0%\n",
      "Pressures : Avg 3.54 ; Min 2.10 ; Max 5.24\n",
      "Other Issues :\n",
      "QA Comments : Scarring and poor colour noted.\n",
      ".\n",
      "Packs/Fruits Inspected/Sample Size : 72\n",
      "Boxes Inspected : 0\n",
      "C:\\Users\\BOBBY~2.MUR\\AppData\\Local\\Temp\\12\\mdF87D.tmp Page 2 of 8\n",
      "\n",
      "--------Page: 3-----------\n",
      "Intake Pallet QC Inspection Report\n",
      "Customer DPS9 PO 177768 / ISS PO 221234\n",
      "Supplier Code : INTR9€\n",
      "Supplier : INTERTERRA agromedina\n",
      "COO : Spain\n",
      "Vehicle No : 3174MBG / R9664BDB Received : 20/01/2025 08:12:44\n",
      "Vessel : GRUPO TRANSONUBA Inspection Date : 20/01/2025 09:42:17 Print date : 20/01/2025\n",
      "Kumquats 2kg Loose\n",
      "ISS Pallet ID : 8396835 Freshness Technology :\n",
      "Supplier Pallet ID : 6187907 Punnet / Pad Type : /\n",
      "Customer Pallet ID : 6187907 Outer : GENERIC CARTON\n",
      "Variety : Nagami Brand : STND\n",
      "Grower : 761798/ Organic? : NO Does Pallet Meet Spec? : YES\n",
      "GGN : / PLU? : / 0.00%\n",
      "Expected Qty 152\n",
      "GREEN\n",
      "Orchard/Farm : 0 End Customer : Marks & Spencer\n",
      "Received Qty 152\n",
      "Harvest Date : 16/01/2025 DP : 6\n",
      "Total Defects : 7.50%\n",
      "Size/Calibre : Packhouse :\n",
      "Estimated Yield : 93%\n",
      "Lot Number : 551837 Inspector : Bobby.Murphy\n",
      "Minor : Poor Colour- green tinge.: 5.00%\n",
      "Minor : Scarring: 2.50%\n",
      "Defects Tot : 0.00% Defects Fruit Total : 0 Packs With Defects : 0.00%\n",
      "Waste Tot : 0.00% Waste Fruit Total : 0 Packs With Waste : 0%\n",
      "Minor Defects Tot : 7.50% Minor Fruit Total : 150\n",
      "Major Defects Tot : 0.00% Major Fruit Total : 0 Packs With Major : 0%\n",
      "Box / Pack Weights : Avg 2244g ; Min 2218g; Max 2271g Underweight 0%\n",
      "Weight Readings : 2218 2232 2245 2256 2271\n",
      "Fruit Weights : Avg 0g\n",
      "Sugar Brix : Avg 0.00%; Min 0.00%; Max 0.00%\n",
      "Brix Readings :\n",
      "Size : Avg 0.00; Min 0; Max 0 Undersize 0.00%\n",
      "Size Readings :\n",
      "Maturity % : ST1: 0% ST2: 0% ST3: 0% ST4: 0% ST5: 0%\n",
      "Pressures : Avg 0.00 ; Min 0.00 ; Max 0.00\n",
      "Other Issues :\n",
      "QA Comments : Scarring and poor colour noted.\n",
      "Packs/Fruits Inspected/Sample Size : 2000\n",
      "Boxes Inspected : 0\n",
      "C:\\Users\\BOBBY~2.MUR\\AppData\\Local\\Temp\\12\\mdF87D.tmp Page 3 of 8\n",
      "\n",
      "--------Page: 4-----------\n",
      "Intake Pallet QC Inspection Report\n",
      "Customer DPS9 PO 177768 / ISS PO 221234\n",
      "Supplier Code : INTR9€\n",
      "Supplier : INTERTERRA agromedina\n",
      "COO : Spain\n",
      "Vehicle No : 3174MBG / R9664BDB Received : 20/01/2025 08:12:44\n",
      "Vessel : GRUPO TRANSONUBA Inspection Date : 20/01/2025 09:42:17 Print date : 20/01/2025\n",
      "Persimon 15x3 Cell\n",
      "ISS Pallet ID : 8396836 Freshness Technology :\n",
      "Supplier Pallet ID : 6187908 Punnet / Pad Type : /\n",
      "Customer Pallet ID : 6187908 Outer :\n",
      "Variety : Triumph Brand : STND\n",
      "Grower : 761781/ Organic? : NO Does Pallet Meet Spec? : YES\n",
      "GGN : / PLU? : / 0.00%\n",
      "Expected Qty 145\n",
      "BLUE\n",
      "Orchard/Farm : End Customer : Marks & Spencer\n",
      "Received Qty 145\n",
      "Harvest Date : 09/11/2024 DP : 6\n",
      "Total Defects : 4.44%\n",
      "Size/Calibre : Packhouse :\n",
      "Estimated Yield : 100%\n",
      "Lot Number : 551838 Inspector : Bobby.Murphy\n",
      "Minor : Poor Colour: 2.96%\n",
      "Minor : Scarring: 1.48%\n",
      "Defects Tot : 0.00% Defects Fruit Total : 0 Packs With Defects : 0.00%\n",
      "Waste Tot : 0.00% Waste Fruit Total : 0 Packs With Waste : 0%\n",
      "Minor Defects Tot : 4.44% Minor Fruit Total : 6\n",
      "Major Defects Tot : 0.00% Major Fruit Total : 0 Packs With Major : 0%\n",
      "Box / Pack Weights : Avg 377g ; Min 351g; Max 403g Underweight 0%\n",
      "Weight Readings : 351 355 359 365 372 375 392 400 401 403\n",
      "Fruit Weights : Avg 0g\n",
      "Sugar Brix : Avg 17.59%; Min 15.20%; Max 18.90%\n",
      "Brix Readings : 15.2 16.9 17.3 17.4 17.4 17.6 18.3 18.4 18.5 18.9\n",
      "Size : Avg 0.00; Min 0; Max 0 Undersize 0.00%\n",
      "Size Readings :\n",
      "Maturity % : ST1: 0% ST2: 0% ST3: 0% ST4: 0% ST5: 0%\n",
      "Pressures : Avg 3.22 ; Min 1.17 ; Max 5.58\n",
      "Other Issues :\n",
      "QA Comments : Scarring and poor colour noted.\n",
      ".\n",
      "Packs/Fruits Inspected/Sample Size : 135\n",
      "Boxes Inspected : 0\n",
      "C:\\Users\\BOBBY~2.MUR\\AppData\\Local\\Temp\\12\\mdF87D.tmp Page 4 of 8\n",
      "\n",
      "--------Page: 5-----------\n",
      "Intake Pallet QC Inspection Report\n",
      "Customer DPS9 PO 177768 / ISS PO 221234\n",
      "Supplier Code : INTR9€\n",
      "Supplier : INTERTERRA agromedina\n",
      "COO : Spain\n",
      "Vehicle No : 3174MBG / R9664BDB Received : 20/01/2025 08:12:44\n",
      "Vessel : GRUPO TRANSONUBA Inspection Date : 20/01/2025 09:42:17 Print date : 20/01/2025\n",
      "Persimon 15x3 Cell\n",
      "ISS Pallet ID : 8396837 Freshness Technology :\n",
      "Supplier Pallet ID : 6187903 Punnet / Pad Type : /\n",
      "Customer Pallet ID : 6187903 Outer :\n",
      "Variety : Triumph Brand : STND\n",
      "Grower : 761798/ Organic? : NO Does Pallet Meet Spec? : YES\n",
      "GGN : / PLU? : / 0.00%\n",
      "Expected Qty 145\n",
      "BLUE\n",
      "Orchard/Farm : End Customer : Marks & Spencer\n",
      "Received Qty 145\n",
      "Harvest Date : 09/11/2024 DP : 6\n",
      "Total Defects : 3.70%\n",
      "Size/Calibre : Packhouse :\n",
      "Estimated Yield : 100%\n",
      "Lot Number : 551839 Inspector : Bobby.Murphy\n",
      "Minor : Poor Colour: 2.22%\n",
      "Minor : Scarring: 1.48%\n",
      "Defects Tot : 0.00% Defects Fruit Total : 0 Packs With Defects : 0.00%\n",
      "Waste Tot : 0.00% Waste Fruit Total : 0 Packs With Waste : 0%\n",
      "Minor Defects Tot : 3.70% Minor Fruit Total : 5\n",
      "Major Defects Tot : 0.00% Major Fruit Total : 0 Packs With Major : 0%\n",
      "Box / Pack Weights : Avg 371g ; Min 355g; Max 403g Underweight 0%\n",
      "Weight Readings : 355 359 359 362 369 370 375 378 381 403\n",
      "Fruit Weights : Avg 0g\n",
      "Sugar Brix : Avg 17.51%; Min 15.20%; Max 18.90%\n",
      "Brix Readings : 15.2 16.2 17.3 17.4 17.4 17.5 18.2 18.5 18.5 18.9\n",
      "Size : Avg 0.00; Min 0; Max 0 Undersize 0.00%\n",
      "Size Readings :\n",
      "Maturity % : ST1: 0% ST2: 0% ST3: 0% ST4: 0% ST5: 0%\n",
      "Pressures : Avg 4.20 ; Min 2.60 ; Max 5.56\n",
      "Other Issues :\n",
      "QA Comments : Scarring and poor colour noted.\n",
      ".\n",
      "Packs/Fruits Inspected/Sample Size : 135\n",
      "Boxes Inspected : 0\n",
      "C:\\Users\\BOBBY~2.MUR\\AppData\\Local\\Temp\\12\\mdF87D.tmp Page 5 of 8\n",
      "\n",
      "--------Page: 6-----------\n",
      "Intake Pallet QC Inspection Report\n",
      "Customer DPS9 PO 177768 / ISS PO 221234\n",
      "Supplier Code : INTR9€\n",
      "Supplier : INTERTERRA agromedina\n",
      "COO : Spain\n",
      "Vehicle No : 3174MBG / R9664BDB Received : 20/01/2025 08:12:44\n",
      "Vessel : GRUPO TRANSONUBA Inspection Date : 20/01/2025 09:42:17 Print date : 20/01/2025\n",
      "Persimon 15x3 Cell\n",
      "ISS Pallet ID : 8396838 Freshness Technology :\n",
      "Supplier Pallet ID : 6187904 Punnet / Pad Type : /\n",
      "Customer Pallet ID : 6187904 Outer :\n",
      "Variety : Triumph Brand : STND\n",
      "Grower : 761798/ Organic? : NO Does Pallet Meet Spec? : YES\n",
      "GGN : / PLU? : / 0.00%\n",
      "Expected Qty 145\n",
      "BLUE\n",
      "Orchard/Farm : End Customer : Marks & Spencer\n",
      "Received Qty 145\n",
      "Harvest Date : 09/11/2024 DP : 6\n",
      "Total Defects : 4.44%\n",
      "Size/Calibre : Packhouse :\n",
      "Estimated Yield : 100%\n",
      "Lot Number : 551839 Inspector : Bobby.Murphy\n",
      "Minor : Poor Colour: 2.96%\n",
      "Minor : Scarring: 1.48%\n",
      "Defects Tot : 0.00% Defects Fruit Total : 0 Packs With Defects : 0.00%\n",
      "Waste Tot : 0.00% Waste Fruit Total : 0 Packs With Waste : 0%\n",
      "Minor Defects Tot : 4.44% Minor Fruit Total : 6\n",
      "Major Defects Tot : 0.00% Major Fruit Total : 0 Packs With Major : 0%\n",
      "Box / Pack Weights : Avg 377g ; Min 351g; Max 403g Underweight 0%\n",
      "Weight Readings : 351 355 359 365 372 375 392 400 401 403\n",
      "Fruit Weights : Avg 0g\n",
      "Sugar Brix : Avg 18.06%; Min 17.20%; Max 18.90%\n",
      "Brix Readings : 17.2 17.4 17.5 17.6 18.2 18.3 18.4 18.5 18.6 18.9\n",
      "Size : Avg 0.00; Min 0; Max 0 Undersize 0.00%\n",
      "Size Readings :\n",
      "Maturity % : ST1: 0% ST2: 0% ST3: 0% ST4: 0% ST5: 0%\n",
      "Pressures : Avg 3.62 ; Min 1.95 ; Max 4.81\n",
      "Other Issues :\n",
      "QA Comments : Scarring and poor colour noted.\n",
      ".\n",
      "Packs/Fruits Inspected/Sample Size : 135\n",
      "Boxes Inspected : 0\n",
      "C:\\Users\\BOBBY~2.MUR\\AppData\\Local\\Temp\\12\\mdF87D.tmp Page 6 of 8\n",
      "\n",
      "--------Page: 7-----------\n",
      "Intake Pallet QC Inspection Report\n",
      "Customer DPS9 PO 177768 / ISS PO 221234\n",
      "Supplier Code : INTR9€\n",
      "Supplier : INTERTERRA agromedina\n",
      "COO : Spain\n",
      "Vehicle No : 3174MBG / R9664BDB Received : 20/01/2025 08:12:44\n",
      "Vessel : GRUPO TRANSONUBA Inspection Date : 20/01/2025 09:42:17 Print date : 20/01/2025\n",
      "Persimon 15x3 Cell\n",
      "ISS Pallet ID : 8396839 Freshness Technology :\n",
      "Supplier Pallet ID : 6192923 Punnet / Pad Type : /\n",
      "Customer Pallet ID : 6192923 Outer :\n",
      "Variety : Triumph Brand : STND\n",
      "Grower : 761798/ Organic? : NO Does Pallet Meet Spec? : YES\n",
      "GGN : / PLU? : / 0.00%\n",
      "Expected Qty 145\n",
      "BLUE\n",
      "Orchard/Farm : End Customer : Marks & Spencer\n",
      "Received Qty 145\n",
      "Harvest Date : 09/11/2024 DP : 6\n",
      "Total Defects : 3.70%\n",
      "Size/Calibre : Packhouse :\n",
      "Estimated Yield : 100%\n",
      "Lot Number : 551839 Inspector : Bobby.Murphy\n",
      "Minor : Poor Colour: 2.22%\n",
      "Minor : Scarring: 1.48%\n",
      "Defects Tot : 0.00% Defects Fruit Total : 0 Packs With Defects : 0.00%\n",
      "Waste Tot : 0.00% Waste Fruit Total : 0 Packs With Waste : 0%\n",
      "Minor Defects Tot : 3.70% Minor Fruit Total : 5\n",
      "Major Defects Tot : 0.00% Major Fruit Total : 0 Packs With Major : 0%\n",
      "Box / Pack Weights : Avg 371g ; Min 355g; Max 403g Underweight 0%\n",
      "Weight Readings : 355 359 359 362 369 370 375 378 381 403\n",
      "Fruit Weights : Avg 0g\n",
      "Sugar Brix : Avg 17.36%; Min 15.80%; Max 18.90%\n",
      "Brix Readings : 15.8 16.2 16.2 17.2 17.4 17.4 17.5 18.5 18.5 18.9\n",
      "Size : Avg 0.00; Min 0; Max 0 Undersize 0.00%\n",
      "Size Readings :\n",
      "Maturity % : ST1: 0% ST2: 0% ST3: 0% ST4: 0% ST5: 0%\n",
      "Pressures : Avg 3.78 ; Min 1.95 ; Max 5.32\n",
      "Other Issues :\n",
      "QA Comments : Scarring and poor colour noted.\n",
      ".\n",
      "Packs/Fruits Inspected/Sample Size : 135\n",
      "Boxes Inspected : 0\n",
      "C:\\Users\\BOBBY~2.MUR\\AppData\\Local\\Temp\\12\\mdF87D.tmp Page 7 of 8\n"
     ]
    }
   ],
   "source": [
    "from document_processing_system.components.data_ingestion import DataIngestion\n",
    "from document_processing_system.components.data_extraction import DataExtraction\n",
    "\n",
    "data_ingester = DataIngestion('qc_data/qc_templates/DPS9 PO 177768 - 221234 Summary Report.pdf')\n",
    "data_extracter = DataExtraction(data_ingester)\n",
    "pages, tables, images = data_extracter.extract_data()\n",
    "all_items = data_extracter.filter_pages(pages)\n",
    "data_extracter.display_data(all_items)"
   ]
  },
  {
   "cell_type": "code",
   "execution_count": null,
   "metadata": {},
   "outputs": [
    {
     "name": "stdout",
     "output_type": "stream",
     "text": [
      "Loading model and tokenizer...\n"
     ]
    },
    {
     "data": {
      "application/vnd.jupyter.widget-view+json": {
       "model_id": "9d0bb7d0c1334e2cacc57fb42344071d",
       "version_major": 2,
       "version_minor": 0
      },
      "text/plain": [
       "Loading checkpoint shards:   0%|          | 0/4 [00:00<?, ?it/s]"
      ]
     },
     "metadata": {},
     "output_type": "display_data"
    },
    {
     "name": "stdout",
     "output_type": "stream",
     "text": [
      "Model loaded successfully!\n"
     ]
    },
    {
     "data": {
      "application/vnd.jupyter.widget-view+json": {
       "model_id": "bbbf0beaf04c48dfbbd968232a3e349b",
       "version_major": 2,
       "version_minor": 0
      },
      "text/plain": [
       "Processing Items:   0%|          | 0/1 [00:00<?, ?item/s]"
      ]
     },
     "metadata": {},
     "output_type": "display_data"
    },
    {
     "name": "stderr",
     "output_type": "stream",
     "text": [
      "Setting `pad_token_id` to `eos_token_id`:151643 for open-end generation.\n"
     ]
    },
    {
     "name": "stdout",
     "output_type": "stream",
     "text": [
      "Saved: C:\\Users\\ai.users\\local_ocr\\data\\qc_data\\qc_reports_output\\qc_reports_14b\\qc_report_item_0.json\n"
     ]
    }
   ],
   "source": [
    "from document_processing_system.components.model_inference import ModelInference\n",
    "model = ModelInference()\n",
    "response = model.process_items(all_items)"
   ]
  },
  {
   "cell_type": "code",
   "execution_count": 4,
   "metadata": {},
   "outputs": [
    {
     "data": {
      "text/html": [
       "<div>\n",
       "<style scoped>\n",
       "    .dataframe tbody tr th:only-of-type {\n",
       "        vertical-align: middle;\n",
       "    }\n",
       "\n",
       "    .dataframe tbody tr th {\n",
       "        vertical-align: top;\n",
       "    }\n",
       "\n",
       "    .dataframe thead th {\n",
       "        text-align: right;\n",
       "    }\n",
       "</style>\n",
       "<table border=\"1\" class=\"dataframe\">\n",
       "  <thead>\n",
       "    <tr style=\"text-align: right;\">\n",
       "      <th></th>\n",
       "    </tr>\n",
       "  </thead>\n",
       "  <tbody>\n",
       "  </tbody>\n",
       "</table>\n",
       "</div>"
      ],
      "text/plain": [
       "Empty DataFrame\n",
       "Columns: []\n",
       "Index: []"
      ]
     },
     "execution_count": 4,
     "metadata": {},
     "output_type": "execute_result"
    }
   ],
   "source": [
    "import pandas as pd\n",
    "flat_data = [item for sublist in response for item in sublist]\n",
    "\n",
    "data = pd.DataFrame(flat_data)\n",
    "data"
   ]
  },
  {
   "cell_type": "code",
   "execution_count": 5,
   "metadata": {},
   "outputs": [
    {
     "data": {
      "text/plain": [
       "[[]]"
      ]
     },
     "execution_count": 5,
     "metadata": {},
     "output_type": "execute_result"
    }
   ],
   "source": [
    "response"
   ]
  },
  {
   "cell_type": "code",
   "execution_count": null,
   "metadata": {},
   "outputs": [],
   "source": []
  }
 ],
 "metadata": {
  "kernelspec": {
   "display_name": "venv",
   "language": "python",
   "name": "python3"
  },
  "language_info": {
   "codemirror_mode": {
    "name": "ipython",
    "version": 3
   },
   "file_extension": ".py",
   "mimetype": "text/x-python",
   "name": "python",
   "nbconvert_exporter": "python",
   "pygments_lexer": "ipython3",
   "version": "3.13.2"
  }
 },
 "nbformat": 4,
 "nbformat_minor": 2
}
