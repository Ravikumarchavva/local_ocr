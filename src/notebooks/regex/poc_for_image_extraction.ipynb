{
 "cells": [
  {
   "cell_type": "code",
   "execution_count": 1,
   "metadata": {},
   "outputs": [],
   "source": [
    "from pathlib import Path\n",
    "ROOT_DIR = Path().resolve().parent.parent\n",
    "\n",
    "pdf_path = ROOT_DIR / 'data' / 'pure_pdfs' / \"PO 166939 - 204865    Summary and Detail Report.pdf\""
   ]
  },
  {
   "cell_type": "code",
   "execution_count": 2,
   "metadata": {},
   "outputs": [
    {
     "data": {
      "application/vnd.jupyter.widget-view+json": {
       "model_id": "b9f9420359b0402a868c0879396b07e9",
       "version_major": 2,
       "version_minor": 0
      },
      "text/plain": [
       "Extracting images:   0%|          | 0/15 [00:00<?, ?page/s]"
      ]
     },
     "metadata": {},
     "output_type": "display_data"
    },
    {
     "name": "stdout",
     "output_type": "stream",
     "text": [
      "Extraction complete.\n"
     ]
    }
   ],
   "source": [
    "import fitz\n",
    "import os\n",
    "from tqdm.auto import tqdm\n",
    "\n",
    "def extract_images_from_pdf(pdf_path, output_folder):\n",
    "    doc = fitz.open(pdf_path)\n",
    "    \n",
    "    if not os.path.exists(output_folder):\n",
    "        os.makedirs(output_folder)\n",
    "\n",
    "    for page_number in tqdm(range(len(doc)), desc=\"Extracting images\", unit=\"page\"):\n",
    "        for img_index, img in enumerate(doc[page_number].get_images(full=True)):\n",
    "            try:\n",
    "                xref = img[0]\n",
    "                base_image = doc.extract_image(xref)\n",
    "                image_bytes = base_image[\"image\"]\n",
    "                image_ext = base_image[\"ext\"]\n",
    "\n",
    "                image_filename = f\"{output_folder}/page_{page_number+1}_img_{img_index+1}.{image_ext}\"\n",
    "                with open(image_filename, \"wb\") as img_file:\n",
    "                    img_file.write(image_bytes)\n",
    "            except Exception as e:\n",
    "                print(f\"Error extracting image: {e}\")\n",
    "\n",
    "    print(\"Extraction complete.\")\n",
    "\n",
    "extract_images_from_pdf(pdf_path, \"extracted_images\")"
   ]
  },
  {
   "cell_type": "code",
   "execution_count": null,
   "metadata": {},
   "outputs": [],
   "source": []
  }
 ],
 "metadata": {
  "kernelspec": {
   "display_name": "gemini",
   "language": "python",
   "name": "python3"
  },
  "language_info": {
   "codemirror_mode": {
    "name": "ipython",
    "version": 3
   },
   "file_extension": ".py",
   "mimetype": "text/x-python",
   "name": "python",
   "nbconvert_exporter": "python",
   "pygments_lexer": "ipython3",
   "version": "3.11.10"
  }
 },
 "nbformat": 4,
 "nbformat_minor": 2
}
